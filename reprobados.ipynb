{
  "nbformat": 4,
  "nbformat_minor": 0,
  "metadata": {
    "colab": {
      "provenance": [],
      "authorship_tag": "ABX9TyMzFl3NtN9uCVLRj/N/1fdV",
      "include_colab_link": true
    },
    "kernelspec": {
      "name": "python3",
      "display_name": "Python 3"
    },
    "language_info": {
      "name": "python"
    }
  },
  "cells": [
    {
      "cell_type": "markdown",
      "metadata": {
        "id": "view-in-github",
        "colab_type": "text"
      },
      "source": [
        "<a href=\"https://colab.research.google.com/github/theleo666/estructura-de-datos/blob/main/reprobados.ipynb\" target=\"_parent\"><img src=\"https://colab.research.google.com/assets/colab-badge.svg\" alt=\"Open In Colab\"/></a>"
      ]
    },
    {
      "cell_type": "code",
      "execution_count": null,
      "metadata": {
        "id": "0CcEnKy9sRze"
      },
      "outputs": [],
      "source": [
        "comidas=['tacos','chilaquiles','tortas','burrito','sopes']\n",
        "bebidas=['Jugo zanahoria','pepsi','cocacola','sprit','marinda']\n",
        "falum=[\"pedro\",\"hugo\",\"juanita\",\"tamara\",\"roguer\"]\n",
        "\n",
        "for i in range(0,len(falum)):\n",
        "    print(\"Al alumno {0} se le sirvio {1} de comida y {2} de bebida\".format(falum[0],bebidas[0],comidas[0]))\n",
        "    comidas.reverse()\n",
        "    bebidas.reverse()\n",
        "    falum.reverse()\n",
        "    comidas.pop()\n",
        "    bebidas.pop()\n",
        "    falum.pop()\n",
        "    comidas.reverse()\n",
        "    bebidas.reverse()\n",
        "    falum.reverse()"
      ]
    }
  ]
}