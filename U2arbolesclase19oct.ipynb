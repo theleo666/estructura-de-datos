{
  "nbformat": 4,
  "nbformat_minor": 0,
  "metadata": {
    "colab": {
      "provenance": [],
      "authorship_tag": "ABX9TyOdBAvqy0DvR1wTHk1DC4ae",
      "include_colab_link": true
    },
    "kernelspec": {
      "name": "python3",
      "display_name": "Python 3"
    },
    "language_info": {
      "name": "python"
    }
  },
  "cells": [
    {
      "cell_type": "markdown",
      "metadata": {
        "id": "view-in-github",
        "colab_type": "text"
      },
      "source": [
        "<a href=\"https://colab.research.google.com/github/theleo666/estructura-de-datos/blob/main/U2arbolesclase19oct.ipynb\" target=\"_parent\"><img src=\"https://colab.research.google.com/assets/colab-badge.svg\" alt=\"Open In Colab\"/></a>"
      ]
    },
    {
      "cell_type": "code",
      "execution_count": 1,
      "metadata": {
        "id": "QF7on_J4lM2H"
      },
      "outputs": [],
      "source": [
        "class ArbolBinarioBusqueda:\n",
        "    def __init__(self):\n",
        "        self.raiz= None\n",
        "        self.tamano= 0\n",
        "    def longitud (self):\n",
        "        return self.tamano\n",
        "    def __len__(self):\n",
        "        return self.tamano\n",
        "    def __iter__(self):\n",
        "        return self.raiz. __iter__()"
      ]
    },
    {
      "cell_type": "code",
      "source": [
        "class NodoArbol:\n",
        "   def __init__(self,clase,valor, izquierdo= None,derecho =None,padre=None):\n",
        "        self.clave=clave\n",
        "        self.cargaUtil=valor\n",
        "        self.hijoIzquierdo=izquierdo\n",
        "        self.hijoDerechi=derecho\n",
        "        self.padre=padre\n",
        "   def tieneHijoIzquierdo(self):\n",
        "       return self.hijoIzquierdo\n",
        "   def tienehijoDerecho(self):\n",
        "       return self.hijoDerecho\n",
        "   def eshijoIzquierdo(self):\n",
        "       return self.padre and self.padre.hijoIzquierdo==self\n",
        "   def esHijoDerecho(self):\n",
        "       return self.padre and self.padre.hijoDerecho==self\n",
        "   def esRaiz(self):\n",
        "       return not self.padre\n",
        "   def esHoja(self):\n",
        "       return not (self.hijoDerecho or self.hijoIzquierdo)\n",
        "   def tieneAlgunHijo(self):\n",
        "       return self.hijoDerecho or self.hijoIzquierdo\n",
        "   def tieneAmbosHijos(self):\n",
        "       return self.hijoDerecho and self.hijoIzquierdo\n",
        "   def reemplazarDatoDeNodo(self,clave,valor,hizq,hder):\n",
        "       self.clave=clave\n",
        "       self.cargaUtil=valor\n",
        "       self.hijoIzquierdo=hizq\n",
        "       self.hijoDerecho=hder\n",
        "       if self.tieneHijoIzquierdo():\n",
        "           self.hijoIzquierdo.padre=self\n",
        "       if self.tieneHijoDerecho():\n",
        "           self.hijoDerecho.padre=self\n",
        "   def agregar(self,clave,valor):\n",
        "       if self.raiz:\n",
        "           self._agregar(clave,valor,self.raiz)\n",
        "       else:\n",
        "            self.raiz=NodoArbol(clave,valor)\n",
        "       self.tamano= self.tamano+1\n",
        "   def agregar(self,clave,valor,nodoActual):\n",
        "       if clave<nodoActual.clave:\n",
        "           if nodoActual.tieneHijoIzquierdo():\n",
        "                  self._agregar(clave,valor,nodoActual.hijoIzquierdo)\n",
        "           else:\n",
        "                  nodoActual.hijoIzquierdo=NodoArbol(clave,valor,padre=nodoActual)\n",
        "       else:\n",
        "            if nodoActual.tieneHijoDerecho():\n",
        "                   self._agregar(clave,valor,nodoActual.hijoDerecho)\n",
        "            else:\n",
        "                   nodoActual.hijoDerecho=NodoArbol(clave,valor,padre=nodoActual)"
      ],
      "metadata": {
        "id": "xToCpXHErEyP"
      },
      "execution_count": 3,
      "outputs": []
    }
  ]
}