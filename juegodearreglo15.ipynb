{
  "nbformat": 4,
  "nbformat_minor": 0,
  "metadata": {
    "colab": {
      "provenance": [],
      "authorship_tag": "ABX9TyOC9GiT4ClSCoQs9m3kVzN/",
      "include_colab_link": true
    },
    "kernelspec": {
      "name": "python3",
      "display_name": "Python 3"
    },
    "language_info": {
      "name": "python"
    }
  },
  "cells": [
    {
      "cell_type": "markdown",
      "metadata": {
        "id": "view-in-github",
        "colab_type": "text"
      },
      "source": [
        "<a href=\"https://colab.research.google.com/github/theleo666/estructura-de-datos/blob/main/juegodearreglo15.ipynb\" target=\"_parent\"><img src=\"https://colab.research.google.com/assets/colab-badge.svg\" alt=\"Open In Colab\"/></a>"
      ]
    },
    {
      "cell_type": "code",
      "execution_count": null,
      "metadata": {
        "id": "D59_lfMl3biA"
      },
      "outputs": [],
      "source": [
        "import random\n",
        "A = [random.randint(1,10),random.randint(1,10),random.randint(1,10)] #Arrelo con valores aleatorios\n",
        "B = [] #Arrelo que usara el jugador\n",
        "ciclo = 0 #Ciclo para el juego\n",
        "\n",
        "#Inicia el juego\n",
        "while ciclo == 0:\n",
        "    print(A) #Enseña los numero que se elegieron aleatoriamente\n",
        "    p = 0 #Posicion de los arrelos\n",
        "    x = 0 #Cantidad de numeros a los que les atino el jugador\n",
        "\n",
        "#Bucle donde el jugador selecciona sus 3 numeros\n",
        "    for i in range(3):\n",
        "        num = int(input(\"Escribe un numero: \"))\n",
        "        B.append(num)\n",
        "#Bucle donde la computadora analiza cuantos numeros salen en el arreglo cuantas veces\n",
        "    for i in range(3):\n",
        "        if A.count(B[p]) > 0:\n",
        "            print(f\"Existen {A.count(B[p])} {B[p]}\")\n",
        "        p +=1\n",
        "\n",
        "#Reinicio de las variables a 0 para poder utilizarlas otra vez\n",
        "    p = 0\n",
        "    x = 0\n",
        "\n",
        "#Bucle donde se dice a cuantos numeros les  atino en su respectivo lugar\n",
        "    for i in range(3):\n",
        "        if A[p] == B[p]:\n",
        "            x += 1\n",
        "        p += 1\n",
        "\n",
        "    print(f\"Le atinaste a {x} numeros\")\n",
        "    B.clear() #Limpia el arreglo para repetir el proceso y que no se salga de los 3 numeros\n",
        "#Salida\n",
        "    if x == 3:\n",
        "        print(\"Ganaste\")\n",
        "        ciclo =+ 1\n",
        "\n"
      ]
    }
  ]
}