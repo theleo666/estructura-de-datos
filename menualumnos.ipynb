{
  "nbformat": 4,
  "nbformat_minor": 0,
  "metadata": {
    "colab": {
      "provenance": [],
      "authorship_tag": "ABX9TyMz8/rvv0gxPpFSzVGbXDej",
      "include_colab_link": true
    },
    "kernelspec": {
      "name": "python3",
      "display_name": "Python 3"
    },
    "language_info": {
      "name": "python"
    }
  },
  "cells": [
    {
      "cell_type": "markdown",
      "metadata": {
        "id": "view-in-github",
        "colab_type": "text"
      },
      "source": [
        "<a href=\"https://colab.research.google.com/github/theleo666/estructura-de-datos/blob/main/menualumnos.ipynb\" target=\"_parent\"><img src=\"https://colab.research.google.com/assets/colab-badge.svg\" alt=\"Open In Colab\"/></a>"
      ]
    },
    {
      "cell_type": "code",
      "execution_count": null,
      "metadata": {
        "colab": {
          "base_uri": "https://localhost:8080/"
        },
        "id": "HLt56Of6ruvr",
        "outputId": "1a89f0f0-7723-4585-e967-2d94cced2c50"
      },
      "outputs": [
        {
          "output_type": "stream",
          "name": "stdout",
          "text": [
            "\n",
            "1. Captura de alumnos\n",
            "2. Listar todos los alumnos\n",
            "3. Buscar por carrera\n",
            "4. Buscar por alumno\n",
            "5. Cuantos alumnos hay\n",
            "6. Salir\n"
          ]
        }
      ],
      "source": [
        "class Alumno:\n",
        "\n",
        "    def __init__(self):\n",
        "        self.matriz = []\n",
        "        for i in range(0,1):\n",
        "            mfila = [0,'','',0,'']\n",
        "            self.matriz.append(mfila)\n",
        "\n",
        "    def menu(self):\n",
        "        op=0\n",
        "        while op!=6:\n",
        "            print(\"\\n1. Captura de alumnos\")\n",
        "            print(\"2. Listar todos los alumnos\")\n",
        "            print(\"3. Buscar por carrera\")\n",
        "            print(\"4. Buscar por alumno\")\n",
        "            print(\"5. Cuantos alumnos hay\")\n",
        "            print(\"6. Salir\")\n",
        "            op=int(input(\"->\"))\n",
        "            if op==1:\n",
        "                tot=int(input(\"\\nNumero de alumnos a capturar ->\"))\n",
        "                alumno1.captura_alum(tot)\n",
        "            if op==2:\n",
        "                alumno1.listar_alum()\n",
        "            if op==3:\n",
        "                alumno1.bus_carr()\n",
        "            if op==4:\n",
        "              alumno1.bus_alum()\n",
        "            if op==5:\n",
        "                alumno1.tot_alum()\n",
        "            if op==6:\n",
        "                print(\"Hasta la proxima\")\n",
        "\n",
        "    def captura_alum(self,tot):\n",
        "        fila=len(self.matriz)\n",
        "        if fila==1:\n",
        "            print(\"\\nAlumno 1 a capturar:\")\n",
        "            self.matriz[0][0]=int(input(\"Numero de control ->\"))\n",
        "            self.matriz[0][1]=input(\"Nombre ->\")\n",
        "            self.matriz[0][2]=input(\"Carrera ->\")\n",
        "            self.matriz[0][3]=int(input(\"Semestre ->\"))\n",
        "            self.matriz[0][4]=input(\"RFC ->\")\n",
        "            for j in range(1,tot):\n",
        "                print(\"Alumno\", j+1, \"a capturar\")\n",
        "                nc = int(input(\"Numero de control ->\"))\n",
        "                nom = input(\"Nombre ->\")\n",
        "                carr = input(\"Carrera ->\")\n",
        "                sem = int(input(\"Semestre ->\"))\n",
        "                rfc = input(\"RFC ->\")\n",
        "                mfila = [nc, nom, carr, sem, rfc]\n",
        "                self.matriz.append(mfila)\n",
        "        else:\n",
        "            for i in range(0,tot):\n",
        "                print(\"\\nAlumno\",i+1,\"a capturar\")\n",
        "                nc=int(input(\"Numero de control ->\"))\n",
        "                nom=input(\"Nombre ->\")\n",
        "                carr=input(\"Carrera ->\")\n",
        "                sem=int(input(\"Semestre ->\"))\n",
        "                rfc=input(\"RFC ->\")\n",
        "                mfila = [nc, nom, carr, sem, rfc]\n",
        "                self.matriz.append(mfila)\n",
        "\n",
        "    def listar_alum(self):\n",
        "        fila = len(self.matriz)\n",
        "        for j in range(0, fila):\n",
        "            print(self.matriz[j])\n",
        "\n",
        "    def bus_carr(self):\n",
        "        fila = len(self.matriz)\n",
        "        carr=input(\"\\nCarrera a buscar ->\")\n",
        "        for i in range(0,fila):\n",
        "            if self.matriz[i][2]==carr:\n",
        "                print(self.matriz[i])\n",
        "\n",
        "    def bus_alum(self):\n",
        "        fila = len(self.matriz)\n",
        "        alum=input(\"\\nAlumno a buscar->\")\n",
        "        for i in range(0,fila):\n",
        "            if self.matriz[i][1]==alum:\n",
        "                print(self.matriz[i])\n",
        "\n",
        "    def tot_alum(self):\n",
        "        fila = len(self.matriz)\n",
        "        print(\"\\nTotal de alumnos:\",fila)\n",
        "alumno1=Alumno()\n",
        "alumno1.menu()"
      ]
    }
  ]
}