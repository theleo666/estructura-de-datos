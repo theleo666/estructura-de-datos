{
  "nbformat": 4,
  "nbformat_minor": 0,
  "metadata": {
    "colab": {
      "provenance": [],
      "authorship_tag": "ABX9TyOUlG+bSaMA07kQ8/d6SbLZ",
      "include_colab_link": true
    },
    "kernelspec": {
      "name": "python3",
      "display_name": "Python 3"
    },
    "language_info": {
      "name": "python"
    }
  },
  "cells": [
    {
      "cell_type": "markdown",
      "metadata": {
        "id": "view-in-github",
        "colab_type": "text"
      },
      "source": [
        "<a href=\"https://colab.research.google.com/github/theleo666/estructura-de-datos/blob/main/ejercicio7sepjuebves.ipynb\" target=\"_parent\"><img src=\"https://colab.research.google.com/assets/colab-badge.svg\" alt=\"Open In Colab\"/></a>"
      ]
    },
    {
      "cell_type": "code",
      "source": [
        "#practica pilas dia jueves con calculadora\n",
        "class pila:\n",
        "    \"representa una pila con operaciones de apilar,desapilar y verificar si esta vacia\"\n",
        "    def __init__(self):\n",
        "\n",
        "     \"crea una pila vacia\"\n",
        "     #la pila vacia se representa con una lista vacia\n",
        "     self.items=[]\n",
        "#------------------------------------------\n",
        "    def apilar(self,x):\n",
        "        \"agrega el elemento x a la pila\"\n",
        "\n",
        "     #apilar es agregar al final de la lista\n",
        "        self.items.append(x)\n",
        "#.-------------------------------------------\n",
        "    def desapilar(self):\n",
        "        \"devuelve el elemento tope y lo elimina de la pila si la pila esta vacia levanta la excepcion \"\n",
        "        try:\n",
        "            return self.items.pop()\n",
        "        except IndexError:\n",
        "            raise ValueError(\"la pila esta vacia\")\n",
        "#-----------------------------------------------------------------------\n",
        "    def es_vacia(self):\n",
        "        \"devuelve true si la lista esta vacia,false si no\"\n",
        "        return self.items==[]\n",
        "\n",
        "    def imprimir_pila(pila):\n",
        "        for item in pila.items:\n",
        "         print(str(item))\n",
        "\n",
        "def calculadora_polaca(elementos):\n",
        "\n",
        "   \"dada una lista de elementos que representa las componentes de una expresion en notacion polaca inversa,evalua dicha expresion si la expresion esta mal formada levanta evaluerror\"\n",
        "   p=pila()\n",
        "   for elemento in elementos:\n",
        "    print(\"debug\",elemento)\n",
        "    try:\n",
        "        numero=float(elemento)\n",
        "        p.apilar(numero)\n",
        "        print(\"debug:apila\",numero)\n",
        "    except ValueError:\n",
        "       if elemento not in \"+-*/%\" or len(elemento) !=1:\n",
        "          raise ValueError(\"operando invalido\")\n",
        "       try:\n",
        "          a1=p.desapilar()\n",
        "          print(\"debug:desapila\",a1)\n",
        "          a2=p.desapilar()\n",
        "          print(\"debug:desapila\",a2)\n",
        "       except ValueError:\n",
        "          print (\"debug:error pila faltan operandos\")\n",
        "          raise ValueError(\"faltan operandos\")\n",
        "       if elemento ==\"+\":\n",
        "          resultado =a2+a1\n",
        "       elif elemento ==\"-\":\n",
        "          resultado =a2-a1\n",
        "       elif elemento ==\"*\":\n",
        "          resultado =a2*a1\n",
        "       elif elemento ==\"/\":\n",
        "          resultado =a2/a1\n",
        "       elif elemento ==\"%\":\n",
        "          resultado =a2%a1\n",
        "       print(\"debug:apila\",resultado)\n",
        "       p.apilar(resultado)\n",
        "    res= p.desapilar()\n",
        "    if p.esPilaVacia():\n",
        "       return res\n",
        "    else:\n",
        "       print(\"debug:error pila sobran operandos\")\n",
        "       raise ValueError(\"sobran operandos\")\n",
        "def main():\n",
        "   expresion=input(\"ingrese la expresion a evaluar\")\n",
        "   elementos= expresion.splint()\n",
        "   print(calculadora_polaca(elementos))\n",
        "main()\n",
        ""
      ],
      "metadata": {
        "id": "RC71CM3nwRb6"
      },
      "execution_count": null,
      "outputs": []
    }
  ]
}