{
  "nbformat": 4,
  "nbformat_minor": 0,
  "metadata": {
    "colab": {
      "provenance": [],
      "authorship_tag": "ABX9TyM2ddQSMC5S6vt0lCFYPv0Y",
      "include_colab_link": true
    },
    "kernelspec": {
      "name": "python3",
      "display_name": "Python 3"
    },
    "language_info": {
      "name": "python"
    }
  },
  "cells": [
    {
      "cell_type": "markdown",
      "metadata": {
        "id": "view-in-github",
        "colab_type": "text"
      },
      "source": [
        "<a href=\"https://colab.research.google.com/github/theleo666/estructura-de-datos/blob/main/Untitled6.ipynb\" target=\"_parent\"><img src=\"https://colab.research.google.com/assets/colab-badge.svg\" alt=\"Open In Colab\"/></a>"
      ]
    },
    {
      "cell_type": "code",
      "execution_count": null,
      "metadata": {
        "id": "jyz26mUDgOWV"
      },
      "outputs": [],
      "source": [
        "#comida\n",
        "c = 1\n",
        "comida = [\"ensalada\",\"nuggets\",\"enchiladas\",\"tacos\",\"arroz\"]\n",
        "bebida = [\"coca\",\"fanta\",\"sprit\",\"victoria\",\"pepsi\"]\n",
        "alumno = []\n",
        "\n",
        "comida.append(\"ensalada\")\n",
        "\n",
        "while c == 1:\n",
        "    opcion = int(input(\"Que se desea hacer?\\n  1-Agregar Alumno\\n  2-Generar Pedido\\n  3-Imprimir todo\\n  4-total de pedidos\\n  5-Salir\\n\"))\n",
        "    if opcion == 1:\n",
        "        nombre = input(\"nombre del alumno?: \")\n",
        "        alumno.append(nombre)\n",
        "    if opcion == 2:\n",
        "        for Alumno,Comida,Bebida in zip(alumno,comida,bebida):\n",
        "            print(\"este alumno {0} se le dio una {1} y una {2}\".format(Alumno,Comida,Bebida))\n",
        "        alumno.reverse()\n",
        "        for i in range(len(Alumno)):\n",
        "            alumno.pop()\n",
        "        print(Alumno)\n",
        "\n",
        "    if opcion == 3:\n",
        "        print(f\"tenemos para comer:{comida}\\n tenemos para beber: {bebida}\\n estan en la fila {len(alumno)} los alumnos: {alumno}\")\n",
        "\n",
        "\n",
        "    if opcion == 5:\n",
        "        C = 2"
      ]
    }
  ]
}