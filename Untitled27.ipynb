{
  "nbformat": 4,
  "nbformat_minor": 0,
  "metadata": {
    "colab": {
      "provenance": [],
      "authorship_tag": "ABX9TyNcZDAoac9d9sa8v35gXy36",
      "include_colab_link": true
    },
    "kernelspec": {
      "name": "python3",
      "display_name": "Python 3"
    },
    "language_info": {
      "name": "python"
    }
  },
  "cells": [
    {
      "cell_type": "markdown",
      "metadata": {
        "id": "view-in-github",
        "colab_type": "text"
      },
      "source": [
        "<a href=\"https://colab.research.google.com/github/theleo666/estructura-de-datos/blob/main/Untitled27.ipynb\" target=\"_parent\"><img src=\"https://colab.research.google.com/assets/colab-badge.svg\" alt=\"Open In Colab\"/></a>"
      ]
    },
    {
      "cell_type": "code",
      "execution_count": 1,
      "metadata": {
        "colab": {
          "base_uri": "https://localhost:8080/"
        },
        "id": "XWPoR0sqzu2d",
        "outputId": "32682bed-559f-4fca-c5ac-15144d3750cd"
      },
      "outputs": [
        {
          "output_type": "stream",
          "name": "stdout",
          "text": [
            "[1, 2, 4, 5, 8]\n"
          ]
        }
      ],
      "source": [
        "def bubbleSort(nums):\n",
        "  intercambio=True\n",
        "  while intercambio:\n",
        "    intercambio=False\n",
        "    for i in range(len(nums)-1):\n",
        "      if nums[i]>nums[i+1]:\n",
        "        nums[i],nums[i+1]=nums[i+1],nums[i]\n",
        "        intercambio=True\n",
        "\n",
        "listanumerosaleatorios=[5,2,1,8,4]\n",
        "bubbleSort(listanumerosaleatorios)\n",
        "print(listanumerosaleatorios)"
      ]
    },
    {
      "cell_type": "code",
      "source": [
        "def selectionSort(nums):\n",
        "  for i in range(len(nums)):\n",
        "    lowest_value_index=i\n",
        "    for j in range(i + 1,len(nums)):\n",
        "      if nums[j]< nums[lowest_value_index]:\n",
        "        lowest_value_index= j\n",
        "\n",
        "    nums[i], nums[lowest_value_index]=nums[lowest_value_index],nums[i]\n",
        "\n",
        "listanumerosaleatorios=[5,2,6,8,3]\n",
        "print(\"LISTA SIN ORDENAR:\"+ str(listanumerosaleatorios))\n",
        "selectionSort(listanumerosaleatorios)\n",
        "print(\"LISTA ORDENADA:\"+str(listanumerosaleatorios))"
      ],
      "metadata": {
        "colab": {
          "base_uri": "https://localhost:8080/"
        },
        "id": "ezcfcFO91IHL",
        "outputId": "61fbfe8a-d14a-4c76-c07b-ea3741d5b677"
      },
      "execution_count": 2,
      "outputs": [
        {
          "output_type": "stream",
          "name": "stdout",
          "text": [
            "LISTA SIN ORDENAR:[5, 2, 6, 8, 3]\n",
            "LISTA ORDENADA:[2, 3, 5, 6, 8]\n"
          ]
        }
      ]
    },
    {
      "cell_type": "code",
      "source": [
        "def insertionSort(nums):\n",
        "  for i in range(1,len(nums)):\n",
        "    item_to_insert=nums[i]\n",
        "\n",
        "    j=i-1\n",
        "\n",
        "    while j >=0 and nums[j]> item_to_insert:\n",
        "      nums[j+1]=nums[j]\n",
        "      j-=1\n",
        "\n",
        "      nums[j+1]=item_to_insert\n",
        "\n",
        "listanumerosaleatorios=[5,8,10,4,1,0]\n",
        "print(\"LISTA SIN ORDENAR:\"+str(listanumerosaleatorios))\n",
        "insertionSort(listanumerosaleatorios)\n",
        "print(\"LISTA ORDENADA:\"+ str(listanumerosaleatorios))"
      ],
      "metadata": {
        "colab": {
          "base_uri": "https://localhost:8080/"
        },
        "id": "d0znjoot36LM",
        "outputId": "1c7f0ead-5cbf-4613-f98d-bf3848114b66"
      },
      "execution_count": 3,
      "outputs": [
        {
          "output_type": "stream",
          "name": "stdout",
          "text": [
            "LISTA SIN ORDENAR:[5, 8, 10, 4, 1, 0]\n",
            "LISTA ORDENADA:[0, 1, 4, 5, 8, 10]\n"
          ]
        }
      ]
    },
    {
      "cell_type": "code",
      "source": [
        "def merge (left_list,right_list):\n",
        "  sorted_list=[]\n",
        "  left_list_index=right_list_index=0\n",
        "  left_list_length,right_list_length=len(left_list),len(right_list)\n",
        "\n",
        "  for _ in range(left_list_length + right_list_length):\n",
        "     if left_list_index < left_list_length and right_list_index < right_list_length:\n",
        "\n",
        "      if left_list[left_list_index]<=right_list[right_list_index]:\n",
        "        sorted_list.append(left_list[left_list_index])\n",
        "        left_list_index += 1\n",
        "\n",
        "      else:\n",
        "        sorted_list.append(right_list[right_list_index])\n",
        "        right_list_index += 1\n",
        "\n",
        "     elif left_list_index == left_list_length:\n",
        "       sorted_list.append(left_list[left_list_index])\n",
        "       right_list_index += 1\n",
        "\n",
        "     elif right_list_index==right_list_length:\n",
        "       sorted_list.append(left_list[left_list_index])\n",
        "       left_list_index += 1\n",
        "  return sorted_list\n",
        "\n",
        "def margeSort(nums):\n",
        "  if len(nums)<= 1:\n",
        "    return nums\n",
        "\n",
        "  mid=len(nums)//2\n",
        "\n",
        "  left_list=margeSort(nums[:mid])\n",
        "  right_list=margeSort(nums[mid:])\n",
        "  return marge(left_list,rigth_list)\n",
        "\n",
        "\n",
        "\n",
        "listanumerosaleatorios=[5,7,9,11,23,1,0]\n",
        "print(\"lista sin ordenar:\"+ str(listanumerosaleatorios))\n",
        "listanumerosaleatorios= margeSort(listanumerosaleatorios)\n",
        "print(\"lista ordenada:\"+ str(listanumerosaleatorios))\n",
        "\n",
        "\n"
      ],
      "metadata": {
        "colab": {
          "base_uri": "https://localhost:8080/",
          "height": 407
        },
        "id": "ldKrrtdH-0zb",
        "outputId": "53321c3c-68ea-4076-fc01-f1dcd8503afc"
      },
      "execution_count": 8,
      "outputs": [
        {
          "output_type": "stream",
          "name": "stdout",
          "text": [
            "lista sin ordenar:[5, 7, 9, 11, 23, 1, 0]\n"
          ]
        },
        {
          "output_type": "error",
          "ename": "NameError",
          "evalue": "ignored",
          "traceback": [
            "\u001b[0;31m---------------------------------------------------------------------------\u001b[0m",
            "\u001b[0;31mNameError\u001b[0m                                 Traceback (most recent call last)",
            "\u001b[0;32m<ipython-input-8-f79ff7a0d49c>\u001b[0m in \u001b[0;36m<cell line: 40>\u001b[0;34m()\u001b[0m\n\u001b[1;32m     38\u001b[0m \u001b[0mlistanumerosaleatorios\u001b[0m\u001b[0;34m=\u001b[0m\u001b[0;34m[\u001b[0m\u001b[0;36m5\u001b[0m\u001b[0;34m,\u001b[0m\u001b[0;36m7\u001b[0m\u001b[0;34m,\u001b[0m\u001b[0;36m9\u001b[0m\u001b[0;34m,\u001b[0m\u001b[0;36m11\u001b[0m\u001b[0;34m,\u001b[0m\u001b[0;36m23\u001b[0m\u001b[0;34m,\u001b[0m\u001b[0;36m1\u001b[0m\u001b[0;34m,\u001b[0m\u001b[0;36m0\u001b[0m\u001b[0;34m]\u001b[0m\u001b[0;34m\u001b[0m\u001b[0;34m\u001b[0m\u001b[0m\n\u001b[1;32m     39\u001b[0m \u001b[0mprint\u001b[0m\u001b[0;34m(\u001b[0m\u001b[0;34m\"lista sin ordenar:\"\u001b[0m\u001b[0;34m+\u001b[0m \u001b[0mstr\u001b[0m\u001b[0;34m(\u001b[0m\u001b[0mlistanumerosaleatorios\u001b[0m\u001b[0;34m)\u001b[0m\u001b[0;34m)\u001b[0m\u001b[0;34m\u001b[0m\u001b[0;34m\u001b[0m\u001b[0m\n\u001b[0;32m---> 40\u001b[0;31m \u001b[0mlistanumerosaleatorios\u001b[0m\u001b[0;34m=\u001b[0m \u001b[0mmargeSort\u001b[0m\u001b[0;34m(\u001b[0m\u001b[0mlistanumerosaleatorios\u001b[0m\u001b[0;34m)\u001b[0m\u001b[0;34m\u001b[0m\u001b[0;34m\u001b[0m\u001b[0m\n\u001b[0m\u001b[1;32m     41\u001b[0m \u001b[0mprint\u001b[0m\u001b[0;34m(\u001b[0m\u001b[0;34m\"lista ordenada:\"\u001b[0m\u001b[0;34m+\u001b[0m \u001b[0mstr\u001b[0m\u001b[0;34m(\u001b[0m\u001b[0mlistanumerosaleatorios\u001b[0m\u001b[0;34m)\u001b[0m\u001b[0;34m)\u001b[0m\u001b[0;34m\u001b[0m\u001b[0;34m\u001b[0m\u001b[0m\n\u001b[1;32m     42\u001b[0m \u001b[0;34m\u001b[0m\u001b[0m\n",
            "\u001b[0;32m<ipython-input-8-f79ff7a0d49c>\u001b[0m in \u001b[0;36mmargeSort\u001b[0;34m(nums)\u001b[0m\n\u001b[1;32m     30\u001b[0m   \u001b[0mmid\u001b[0m\u001b[0;34m=\u001b[0m\u001b[0mlen\u001b[0m\u001b[0;34m(\u001b[0m\u001b[0mnums\u001b[0m\u001b[0;34m)\u001b[0m\u001b[0;34m//\u001b[0m\u001b[0;36m2\u001b[0m\u001b[0;34m\u001b[0m\u001b[0;34m\u001b[0m\u001b[0m\n\u001b[1;32m     31\u001b[0m \u001b[0;34m\u001b[0m\u001b[0m\n\u001b[0;32m---> 32\u001b[0;31m   \u001b[0mleft_list\u001b[0m\u001b[0;34m=\u001b[0m\u001b[0mmargeSort\u001b[0m\u001b[0;34m(\u001b[0m\u001b[0mnums\u001b[0m\u001b[0;34m[\u001b[0m\u001b[0;34m:\u001b[0m\u001b[0mmid\u001b[0m\u001b[0;34m]\u001b[0m\u001b[0;34m)\u001b[0m\u001b[0;34m\u001b[0m\u001b[0;34m\u001b[0m\u001b[0m\n\u001b[0m\u001b[1;32m     33\u001b[0m   \u001b[0mright_list\u001b[0m\u001b[0;34m=\u001b[0m\u001b[0mmargeSort\u001b[0m\u001b[0;34m(\u001b[0m\u001b[0mnums\u001b[0m\u001b[0;34m[\u001b[0m\u001b[0mmid\u001b[0m\u001b[0;34m:\u001b[0m\u001b[0;34m]\u001b[0m\u001b[0;34m)\u001b[0m\u001b[0;34m\u001b[0m\u001b[0;34m\u001b[0m\u001b[0m\n\u001b[1;32m     34\u001b[0m   \u001b[0;32mreturn\u001b[0m \u001b[0mmarge\u001b[0m\u001b[0;34m(\u001b[0m\u001b[0mleft_list\u001b[0m\u001b[0;34m,\u001b[0m\u001b[0mrigth_list\u001b[0m\u001b[0;34m)\u001b[0m\u001b[0;34m\u001b[0m\u001b[0;34m\u001b[0m\u001b[0m\n",
            "\u001b[0;32m<ipython-input-8-f79ff7a0d49c>\u001b[0m in \u001b[0;36mmargeSort\u001b[0;34m(nums)\u001b[0m\n\u001b[1;32m     31\u001b[0m \u001b[0;34m\u001b[0m\u001b[0m\n\u001b[1;32m     32\u001b[0m   \u001b[0mleft_list\u001b[0m\u001b[0;34m=\u001b[0m\u001b[0mmargeSort\u001b[0m\u001b[0;34m(\u001b[0m\u001b[0mnums\u001b[0m\u001b[0;34m[\u001b[0m\u001b[0;34m:\u001b[0m\u001b[0mmid\u001b[0m\u001b[0;34m]\u001b[0m\u001b[0;34m)\u001b[0m\u001b[0;34m\u001b[0m\u001b[0;34m\u001b[0m\u001b[0m\n\u001b[0;32m---> 33\u001b[0;31m   \u001b[0mright_list\u001b[0m\u001b[0;34m=\u001b[0m\u001b[0mmargeSort\u001b[0m\u001b[0;34m(\u001b[0m\u001b[0mnums\u001b[0m\u001b[0;34m[\u001b[0m\u001b[0mmid\u001b[0m\u001b[0;34m:\u001b[0m\u001b[0;34m]\u001b[0m\u001b[0;34m)\u001b[0m\u001b[0;34m\u001b[0m\u001b[0;34m\u001b[0m\u001b[0m\n\u001b[0m\u001b[1;32m     34\u001b[0m   \u001b[0;32mreturn\u001b[0m \u001b[0mmarge\u001b[0m\u001b[0;34m(\u001b[0m\u001b[0mleft_list\u001b[0m\u001b[0;34m,\u001b[0m\u001b[0mrigth_list\u001b[0m\u001b[0;34m)\u001b[0m\u001b[0;34m\u001b[0m\u001b[0;34m\u001b[0m\u001b[0m\n\u001b[1;32m     35\u001b[0m \u001b[0;34m\u001b[0m\u001b[0m\n",
            "\u001b[0;32m<ipython-input-8-f79ff7a0d49c>\u001b[0m in \u001b[0;36mmargeSort\u001b[0;34m(nums)\u001b[0m\n\u001b[1;32m     32\u001b[0m   \u001b[0mleft_list\u001b[0m\u001b[0;34m=\u001b[0m\u001b[0mmargeSort\u001b[0m\u001b[0;34m(\u001b[0m\u001b[0mnums\u001b[0m\u001b[0;34m[\u001b[0m\u001b[0;34m:\u001b[0m\u001b[0mmid\u001b[0m\u001b[0;34m]\u001b[0m\u001b[0;34m)\u001b[0m\u001b[0;34m\u001b[0m\u001b[0;34m\u001b[0m\u001b[0m\n\u001b[1;32m     33\u001b[0m   \u001b[0mright_list\u001b[0m\u001b[0;34m=\u001b[0m\u001b[0mmargeSort\u001b[0m\u001b[0;34m(\u001b[0m\u001b[0mnums\u001b[0m\u001b[0;34m[\u001b[0m\u001b[0mmid\u001b[0m\u001b[0;34m:\u001b[0m\u001b[0;34m]\u001b[0m\u001b[0;34m)\u001b[0m\u001b[0;34m\u001b[0m\u001b[0;34m\u001b[0m\u001b[0m\n\u001b[0;32m---> 34\u001b[0;31m   \u001b[0;32mreturn\u001b[0m \u001b[0mmarge\u001b[0m\u001b[0;34m(\u001b[0m\u001b[0mleft_list\u001b[0m\u001b[0;34m,\u001b[0m\u001b[0mrigth_list\u001b[0m\u001b[0;34m)\u001b[0m\u001b[0;34m\u001b[0m\u001b[0;34m\u001b[0m\u001b[0m\n\u001b[0m\u001b[1;32m     35\u001b[0m \u001b[0;34m\u001b[0m\u001b[0m\n\u001b[1;32m     36\u001b[0m \u001b[0;34m\u001b[0m\u001b[0m\n",
            "\u001b[0;31mNameError\u001b[0m: name 'marge' is not defined"
          ]
        }
      ]
    }
  ]
}