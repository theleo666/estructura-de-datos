{
  "nbformat": 4,
  "nbformat_minor": 0,
  "metadata": {
    "colab": {
      "provenance": [],
      "authorship_tag": "ABX9TyM/xw4D1Bek7lJxjX8hnlE4",
      "include_colab_link": true
    },
    "kernelspec": {
      "name": "python3",
      "display_name": "Python 3"
    },
    "language_info": {
      "name": "python"
    }
  },
  "cells": [
    {
      "cell_type": "markdown",
      "metadata": {
        "id": "view-in-github",
        "colab_type": "text"
      },
      "source": [
        "<a href=\"https://colab.research.google.com/github/theleo666/estructura-de-datos/blob/main/preexamenperejasclasemartes.ipynb\" target=\"_parent\"><img src=\"https://colab.research.google.com/assets/colab-badge.svg\" alt=\"Open In Colab\"/></a>"
      ]
    },
    {
      "cell_type": "code",
      "execution_count": null,
      "metadata": {
        "id": "agavptjdfFlf"
      },
      "outputs": [],
      "source": [
        "class Cafeteria: #Creo una clase\n",
        "    def __init__(self,Comida,Bebida): #En estos dos espacios voy a guardar 2 arreglos uno de comida y otro de bebida\n",
        "        self.Comida = Comida\n",
        "        self.Bebida = Bebida\n",
        "        self.Ordenes = [] #Arreglo que guarda las ordenes que le llegan\n",
        "        self.Contcom = [] #Arreglo que guarda la comida que se pidio en forma numerica 1 = milanesa, 2=Pollo ...\n",
        "        self.Contbeb = [] #Arreglo que guarda las bebidas que se pidieron en forma numerica, 1= Fanta, 2=CocaCola ...\n",
        "\n",
        "    def Menu(self): #Menu que se llama a si mismo\n",
        "        Opcion = int(input(\"Que desea hacer?:\\n  1-Pedir\\n  2-Cancelar Pedido\\n  3-Ver menu\\n  \"\n",
        "                           \"4-Ver Ordenes\\n  5-Servir Ordenes\\n  6-Salir\\n\"))\n",
        "        if Opcion == 1:\n",
        "            self.Pedir()\n",
        "        if Opcion == 2:\n",
        "            self.CancelarPedido()\n",
        "        if Opcion == 3:\n",
        "            self.VerMenu()\n",
        "        if Opcion == 4:\n",
        "            self.VerOrdenes()\n",
        "        if Opcion == 5:\n",
        "            print(\"Todas las ordenes han sido despachadas\")\n",
        "            self.Ordenes = []\n",
        "        if Opcion < 6:\n",
        "            self.Menu() #Aqui se llama a si mismo\n",
        "\n",
        "    def Pedir(self):\n",
        "        com = int(input(f\"Elija un Alimento\\n  1-{self.Comida[0]}\\n  2-{self.Comida[1]}\\n  3-{self.Comida[2]}\\n\"))\n",
        "        beb = int(input(f\"Elija una Bebida\\n  1-{self.Bebida[0]}\\n  2-{self.Bebida[1]}\\n  3-{self.Bebida[2]}\\n\"))\n",
        "        self.Contcom.append(com-1) #Se guarda la opcion tomada en el arrgelo de comida pedida Contcom\n",
        "        self.Contbeb.append(beb-1) #Se guarda la opcion tomada en el arreglo de bebida pedida Contbeb\n",
        "        pedido = [self.Comida[com - 1], self.Bebida[beb - 1]] #Lass opciones se guardan en el pedido\n",
        "        print(pedido)\n",
        "        self.Ordenes.append(pedido)#Para previamente guardar el pedido en las ordenes\n",
        "\n",
        "    def VerOrdenes(self):\n",
        "        op = int(input(\"Como desea ver las ordenes?\\n  1-Ver contador\\n\"\n",
        "                       \"  2-Ordenar conforme al abecedario\\n  3-Ver original\"))\n",
        "        if op == 1:\n",
        "            for i in range(3):\n",
        "                print(f\"{self.Comida[i]} --> {self.Contcom.count(i)}\")#Aqui te dice cuantas veces se pidio cada cosa\n",
        "                print(f\"{self.Bebida[i]} --> {self.Contbeb.count(i)}\")\n",
        "        if op == 2:\n",
        "            self.ordenar(self.Ordenes,len(self.Ordenes))#Aqui se ordena el arreglo Ordenes conforme al abecedario\n",
        "            print(self.Ordenes)\n",
        "        if op == 3:\n",
        "            print(self.Ordenes) #Aqui se muestra el Arreglo original\n",
        "\n",
        "\n",
        "    def CancelarPedido(self):\n",
        "        self.Ordenes.pop()#Se eliminan los ultimos 2 pedidos\n",
        "        self.Contcom.pop()\n",
        "        self.Contbeb.pop()\n",
        "\n",
        "    def VerMenu(self):\n",
        "        print(self.Comida) #Se muestra el menu de cocmida y bebida\n",
        "        print(self.Bebida)\n",
        "\n",
        "    def ordenar(self,lista, cant):\n",
        "        if cant > 1:# Codigo para ordenr los valores de los arreglos\n",
        "            for f in range(0, cant - 1):\n",
        "                if lista[f] > lista[f + 1]:\n",
        "                    aux = lista[f]\n",
        "                    lista[f] = lista[f + 1]\n",
        "                    lista[f + 1] = aux\n",
        "                self.ordenar(lista, cant - 1)\n",
        "\n",
        "comida =[\"Milanesa\",\"Pollo\",\"Lechuga\"]#Solo acepta 3 valores\n",
        "bebida =[\"Fanta\",\"CocaCola\",\"Pepsi\"]\n",
        "Prueba = Cafeteria(comida,bebida)\n",
        "Prueba.Menu()# Se inicia"
      ]
    }
  ]
}