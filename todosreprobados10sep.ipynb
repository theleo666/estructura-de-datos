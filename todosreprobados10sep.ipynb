{
  "nbformat": 4,
  "nbformat_minor": 0,
  "metadata": {
    "colab": {
      "provenance": [],
      "authorship_tag": "ABX9TyOYfaGx8yQcrjp9daLiRA66",
      "include_colab_link": true
    },
    "kernelspec": {
      "name": "python3",
      "display_name": "Python 3"
    },
    "language_info": {
      "name": "python"
    }
  },
  "cells": [
    {
      "cell_type": "markdown",
      "metadata": {
        "id": "view-in-github",
        "colab_type": "text"
      },
      "source": [
        "<a href=\"https://colab.research.google.com/github/theleo666/estructura-de-datos/blob/main/todosreprobados10sep.ipynb\" target=\"_parent\"><img src=\"https://colab.research.google.com/assets/colab-badge.svg\" alt=\"Open In Colab\"/></a>"
      ]
    },
    {
      "cell_type": "code",
      "execution_count": 1,
      "metadata": {
        "colab": {
          "base_uri": "https://localhost:8080/"
        },
        "id": "ovU5XZyTtZTU",
        "outputId": "dcccc955-e235-47f5-91d1-0d39f1d5d2ff"
      },
      "outputs": [
        {
          "output_type": "stream",
          "name": "stdout",
          "text": [
            "mau striper=>9=>5=>8=>"
          ]
        }
      ],
      "source": [
        "#voy a reprobar 12 de sep\n",
        "class node:\n",
        "    def __init__(self,data=None,next=None):\n",
        "        self.data=data\n",
        "        self.next=next\n",
        "#creamos la clase likend\n",
        "class linked_list:\n",
        "    def __init__(self):\n",
        "        self.head=None\n",
        " #metodo para agregar elementos al frente\n",
        "    def add_at_front(self,data):\n",
        "        self.head=node(data=data,next=self.head)\n",
        " #metodo para verificar estructura\n",
        "    def is_empty(self):\n",
        "        return self.head ==None\n",
        " #metodo para agregar elementos al final\n",
        "    def add_at_end(self,data):\n",
        "        if not self.head:\n",
        "            self.head=node(data=data)\n",
        "            return\n",
        "        curr=self.head\n",
        "        while curr.next:\n",
        "            curr=curr.next\n",
        "        curr.next=node(data=data)\n",
        "    #metodo para eliminar nodos\n",
        "    def delete_node(self,key):\n",
        "        curr=self.head\n",
        "        prev=None\n",
        "        while curr and curr.data !=key:\n",
        "            prev=curr\n",
        "            curr=curr.next\n",
        "        if prev is None:\n",
        "            self.head=curr.next\n",
        "        elif curr:\n",
        "            prev.next=curr.next\n",
        "            curr.next=None\n",
        "#metodo para obtener el ultimo nodo\n",
        "    def get_last_node(self):\n",
        "        temp:self.head\n",
        "        while(temp.next is not None):\n",
        "            temp=temp.next\n",
        "        return temp.data\n",
        "#metodo para imprimir la lista de nodos\n",
        "    def print_list(self):\n",
        "        node=self.head\n",
        "        while node !=None:\n",
        "            print(node.data,end=\"=>\")\n",
        "            node=node.next\n",
        "s=linked_list()\n",
        "s.add_at_front(5)\n",
        "s.add_at_end(8)\n",
        "s.add_at_front(9)\n",
        "s.add_at_front(\"mau striper\")\n",
        "s.print_list()"
      ]
    }
  ]
}