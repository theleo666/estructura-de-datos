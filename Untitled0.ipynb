{
  "nbformat": 4,
  "nbformat_minor": 0,
  "metadata": {
    "colab": {
      "provenance": [],
      "authorship_tag": "ABX9TyPXm++xXIx724jB2fuH6zd8",
      "include_colab_link": true
    },
    "kernelspec": {
      "name": "python3",
      "display_name": "Python 3"
    },
    "language_info": {
      "name": "python"
    }
  },
  "cells": [
    {
      "cell_type": "markdown",
      "metadata": {
        "id": "view-in-github",
        "colab_type": "text"
      },
      "source": [
        "<a href=\"https://colab.research.google.com/github/theleo666/estructura-de-datos/blob/main/Untitled0.ipynb\" target=\"_parent\"><img src=\"https://colab.research.google.com/assets/colab-badge.svg\" alt=\"Open In Colab\"/></a>"
      ]
    },
    {
      "cell_type": "code",
      "execution_count": null,
      "metadata": {
        "id": "f4XKfL7rD43l"
      },
      "outputs": [],
      "source": []
    },
    {
      "cell_type": "markdown",
      "source": [
        "mi primer programa\n"
      ],
      "metadata": {
        "id": "zBf-p6-wEDVA"
      }
    },
    {
      "cell_type": "code",
      "source": [
        "print(\"hola mundo\")"
      ],
      "metadata": {
        "colab": {
          "base_uri": "https://localhost:8080/"
        },
        "id": "F7mY-haOEby2",
        "outputId": "d6d447ab-c52f-4718-a729-3fbbbbbb52c5"
      },
      "execution_count": 2,
      "outputs": [
        {
          "output_type": "stream",
          "name": "stdout",
          "text": [
            "hola mundo\n"
          ]
        }
      ]
    },
    {
      "cell_type": "markdown",
      "source": [
        "nombre"
      ],
      "metadata": {
        "id": "WN0N4-v6OMdy"
      }
    },
    {
      "cell_type": "code",
      "execution_count": null,
      "metadata": {
        "colab": {
          "base_uri": "https://localhost:8080/"
        },
        "id": "SSz54ukIFFUr",
        "outputId": "d80da83e-edb8-4b8b-f3ff-58cab2e05aa0"
      },
      "outputs": [
        {
          "output_type": "stream",
          "name": "stdout",
          "text": [
            "tu nombre:leo\n",
            "hola leo,¿como estas?\n",
            "tu edad:20\n",
            "leo y tu 20años\n"
          ]
        }
      ],
      "source": [
        "nombre=str(input(\"tu nombre:\"))\n",
        "print(f\"hola {nombre},¿como estas?\")\n",
        "edad=int(input(\"tu edad:\"))\n",
        "print(f\"{nombre} y tu {edad}años\")\n",
        "\n"
      ]
    },
    {
      "cell_type": "markdown",
      "source": [
        "ejemplo con duwhile"
      ],
      "metadata": {
        "id": "GKYd13u8OT07"
      }
    },
    {
      "cell_type": "code",
      "source": [
        "w=1\n",
        "y=0\n",
        "while y<=w:\n",
        "  nombre=str(input(\"tu nombre:\"))\n",
        "  print(f\"hola-{nombre},¿como estas?\")\n",
        "  edad=int(input(\"tu edad:\"))\n",
        "  print(f\"{nombre} y tiene {edad}-años\\n\")\n",
        "  y=int(input(\"¿desea continuar?\\n  1.Si\\n  2.No\\n\"))\n",
        "\n",
        "\n",
        "\n",
        ""
      ],
      "metadata": {
        "colab": {
          "base_uri": "https://localhost:8080/"
        },
        "id": "r5XJR_ZvOYCh",
        "outputId": "59ba5802-6f68-4534-b5d4-fd0629faa8c4"
      },
      "execution_count": 8,
      "outputs": [
        {
          "name": "stdout",
          "output_type": "stream",
          "text": [
            "tu nombre:alan\n",
            "hola-alan,¿como estas?\n",
            "tu edad:19\n",
            "alan y tiene 19-años\n",
            "\n",
            "¿desea continuar?\n",
            "  1.Si\n",
            "  2.No\n",
            "1\n",
            "tu nombre:alan\n",
            "hola-alan,¿como estas?\n",
            "tu edad:23\n",
            "alan y tiene 23-años\n",
            "\n",
            "¿desea continuar?\n",
            "  1.Si\n",
            "  2.No\n",
            "2\n"
          ]
        }
      ]
    },
    {
      "cell_type": "markdown",
      "source": [
        "con arreglo"
      ],
      "metadata": {
        "id": "lnXvRgO7SyLJ"
      }
    },
    {
      "cell_type": "code",
      "source": [
        "arreglo=[]\n",
        "w=1\n",
        "y=0\n",
        "while y<=w:\n",
        "  nombre=str(input(\"tu nombre:\"))\n",
        "  print(f\"hola {nombre}, ¿como estas?\")\n",
        "  edad=int(input(\"tu edad:\"))\n",
        "  print(f\"{nombre} y tiene {edad}-años\\n\")\n",
        "  arreglo.append([nombre,edad])\n",
        "  print(f\"{arreglo}\")\n",
        "  y=int(input(\"¿desea continuar?\\n 1.si\\n 2.no\\n\"))"
      ],
      "metadata": {
        "colab": {
          "base_uri": "https://localhost:8080/"
        },
        "id": "R66ok6TAVBia",
        "outputId": "0cdc954b-a3f9-4286-912b-e10702f6959a"
      },
      "execution_count": 10,
      "outputs": [
        {
          "name": "stdout",
          "output_type": "stream",
          "text": [
            "tu nombre:alan\n",
            "hola alan, ¿como estas?\n",
            "tu edad:19\n",
            "alan y tiene 19-años\n",
            "\n",
            "[['alan', 19]]\n",
            "¿desea continuar?\n",
            " 1.si\n",
            " 2.no\n",
            "2\n"
          ]
        }
      ]
    }
  ]
}