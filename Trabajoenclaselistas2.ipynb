{
  "nbformat": 4,
  "nbformat_minor": 0,
  "metadata": {
    "colab": {
      "provenance": [],
      "authorship_tag": "ABX9TyO3gYCHeqyCBa/VM+0tKJzN",
      "include_colab_link": true
    },
    "kernelspec": {
      "name": "python3",
      "display_name": "Python 3"
    },
    "language_info": {
      "name": "python"
    }
  },
  "cells": [
    {
      "cell_type": "markdown",
      "metadata": {
        "id": "view-in-github",
        "colab_type": "text"
      },
      "source": [
        "<a href=\"https://colab.research.google.com/github/theleo666/estructura-de-datos/blob/main/Trabajoenclaselistas2.ipynb\" target=\"_parent\"><img src=\"https://colab.research.google.com/assets/colab-badge.svg\" alt=\"Open In Colab\"/></a>"
      ]
    },
    {
      "cell_type": "markdown",
      "source": [
        "Factura"
      ],
      "metadata": {
        "id": "NdHAj59cQh9h"
      }
    },
    {
      "cell_type": "code",
      "source": [
        "Factura=[\"pan\",\"huevos\",100,1234]\n",
        "print(Factura)\n",
        "\n",
        "print(Factura [0])\n",
        "print(Factura [3])\n",
        "print(Factura [-1])\n",
        "print(Factura [-2])\n",
        "print(Factura [-3])\n",
        "print(Factura [-4])\n",
        "\n",
        "print(len(Factura))\n",
        "print(len(Factura)-1)\n",
        "print(Factura[-len(Factura)])\n",
        "Factura [1]=\"carne\"\n",
        "print(Factura)\n",
        "\n",
        "Factura [3]=[\"queso\",\"jamon\"]\n",
        "print(Factura)"
      ],
      "metadata": {
        "colab": {
          "base_uri": "https://localhost:8080/"
        },
        "id": "-dGA70GLRLtz",
        "outputId": "b417e732-46d9-48ca-c5a4-be306c540ac7"
      },
      "execution_count": 5,
      "outputs": [
        {
          "output_type": "stream",
          "name": "stdout",
          "text": [
            "['pan', 'huevos', 100, 1234]\n",
            "pan\n",
            "1234\n",
            "1234\n",
            "100\n",
            "huevos\n",
            "pan\n",
            "4\n",
            "3\n",
            "pan\n",
            "['pan', 'carne', 100, 1234]\n",
            "['pan', 'carne', 100, ['queso', 'jamon']]\n"
          ]
        }
      ]
    },
    {
      "cell_type": "code",
      "source": [
        "Versiones_plone=[2.5,3.6,4,5]\n",
        "print(Versiones_plone)\n",
        "\n",
        "Versiones_plone.append(6)\n",
        "print(Versiones_plone)\n",
        "\n",
        "Versiones_plone.append(\"leche\")\n",
        "print(Versiones_plone)\n",
        "\n",
        "Prueba=[20,\"latas\"]\n",
        "Versiones_plone.append(Prueba)\n",
        "print(Versiones_plone)\n",
        "\n",
        "print(Versiones_plone)\n",
        "Versiones_plone.append(\"ELNN\")\n",
        "Versiones_plone.append([[\"QUESO\", \"ALAN\"],[\"XIME\", 6, \"NEL\"]])\n",
        "print(Versiones_plone)"
      ],
      "metadata": {
        "colab": {
          "base_uri": "https://localhost:8080/"
        },
        "id": "CeD46XaSVRYG",
        "outputId": "ffbd8e4a-c4f3-4f42-a474-4164ea3a2c77"
      },
      "execution_count": 8,
      "outputs": [
        {
          "output_type": "stream",
          "name": "stdout",
          "text": [
            "[2.5, 3.6, 4, 5]\n",
            "[2.5, 3.6, 4, 5, 6]\n",
            "[2.5, 3.6, 4, 5, 6, 'leche']\n",
            "[2.5, 3.6, 4, 5, 6, 'leche', [20, 'latas']]\n",
            "[2.5, 3.6, 4, 5, 6, 'leche', [20, 'latas']]\n",
            "[2.5, 3.6, 4, 5, 6, 'leche', [20, 'latas'], 'ELNN', [['QUESO', 'ALAN'], ['XIME', 6, 'NEL']]]\n"
          ]
        }
      ]
    },
    {
      "cell_type": "code",
      "source": [
        "Versiones_plone=[2.1,2.5,3.6,4,5,6]\n",
        "print(\"6->\",Versiones_plone.count(6))\n",
        "print(\"5 -> \",Versiones_plone.count(5))\n",
        "print(\"2.5 -> \",Versiones_plone.count(2.5))"
      ],
      "metadata": {
        "colab": {
          "base_uri": "https://localhost:8080/"
        },
        "id": "c_J6BcawXzie",
        "outputId": "8afc1196-3145-4268-ebf9-a7f13198820f"
      },
      "execution_count": 2,
      "outputs": [
        {
          "output_type": "stream",
          "name": "stdout",
          "text": [
            "6-> 1\n",
            "5 ->  1\n",
            "2.5 ->  1\n"
          ]
        }
      ]
    },
    {
      "cell_type": "code",
      "source": [
        "versiones_plone=[2.1,2.5,3.6]\n",
        "print(versiones_plone)\n",
        "versiones_plone.extend([4])\n",
        "print(versiones_plone)\n",
        "versiones_plone.extend(range(5,7))\n",
        "print(versiones_plone)"
      ],
      "metadata": {
        "colab": {
          "base_uri": "https://localhost:8080/"
        },
        "id": "wI3k1hcDYfuO",
        "outputId": "51f28b71-2340-4310-d735-2188e1d5d447"
      },
      "execution_count": 3,
      "outputs": [
        {
          "output_type": "stream",
          "name": "stdout",
          "text": [
            "[2.1, 2.5, 3.6]\n",
            "[2.1, 2.5, 3.6, 4]\n",
            "[2.1, 2.5, 3.6, 4, 5, 6]\n"
          ]
        }
      ]
    },
    {
      "cell_type": "code",
      "execution_count": null,
      "metadata": {
        "id": "gXSn2LtBQebY"
      },
      "outputs": [],
      "source": []
    }
  ]
}