{
  "nbformat": 4,
  "nbformat_minor": 0,
  "metadata": {
    "colab": {
      "provenance": [],
      "authorship_tag": "ABX9TyPigXCBNC3MUEqYZbRqmfoT",
      "include_colab_link": true
    },
    "kernelspec": {
      "name": "python3",
      "display_name": "Python 3"
    },
    "language_info": {
      "name": "python"
    }
  },
  "cells": [
    {
      "cell_type": "markdown",
      "metadata": {
        "id": "view-in-github",
        "colab_type": "text"
      },
      "source": [
        "<a href=\"https://colab.research.google.com/github/theleo666/estructura-de-datos/blob/main/c%C3%B3digosunidad2.ipynb\" target=\"_parent\"><img src=\"https://colab.research.google.com/assets/colab-badge.svg\" alt=\"Open In Colab\"/></a>"
      ]
    },
    {
      "cell_type": "code",
      "execution_count": 1,
      "metadata": {
        "id": "EkYzhKZzUev1"
      },
      "outputs": [],
      "source": [
        "class Node:\n",
        "    def __init__(self,data):\n",
        "        self.left= None\n",
        "        self.right= None\n",
        "        self.data= data\n",
        "root = Node(10)\n",
        "\n",
        "root.left= Node(34)\n",
        "root.right=Node(89)\n",
        "root.left.left= Node(45)\n",
        "root.left.right= Node(50)"
      ]
    },
    {
      "cell_type": "code",
      "source": [
        "class Arbol(object):\n",
        "  def __init__(self):\n",
        "    self.der= None\n",
        "    self.izq= None\n",
        "    self.dato= None\n",
        "\n",
        "raiz= Arbol()\n",
        "raiz.dato='raiz'\n",
        "raiz.izq=Arbol()\n",
        "raiz.izq.dato='izquierda'\n",
        "raiz.der=Arbol()\n",
        "raiz.der.dato='derecha'\n",
        "\n",
        "print(raiz.izq.dato)"
      ],
      "metadata": {
        "colab": {
          "base_uri": "https://localhost:8080/"
        },
        "id": "emPkcqnAU9gT",
        "outputId": "f59ecb64-28fd-47fa-912f-2fc58e32f286"
      },
      "execution_count": 3,
      "outputs": [
        {
          "output_type": "stream",
          "name": "stdout",
          "text": [
            "izquierda\n"
          ]
        }
      ]
    },
    {
      "cell_type": "code",
      "source": [
        "class Arbol(object):\n",
        "  def __init__(self):\n",
        "    self.der= None\n",
        "    self.izq= None\n",
        "    self.dato= None\n",
        "\n",
        "raiz= Arbol()\n",
        "raiz.dato= 'Raiz'\n",
        "raiz.izq= Arbol()\n",
        "raiz.izq.dato= 'Izquierda'\n",
        "raiz.der=Arbol()\n",
        "raiz.der.dato= 'Derecha'\n",
        "\n",
        "raiz.izq.izq=Arbol()\n",
        "raiz.izq.izq.dato= 'Izquierda 2'\n",
        "raiz.izq.der=Arbol()\n",
        "raiz.izq.der.dato= 'Izquierda - Derecha'"
      ],
      "metadata": {
        "id": "ypgfF6qUYdXs"
      },
      "execution_count": 4,
      "outputs": []
    },
    {
      "cell_type": "code",
      "source": [
        "class Arbol(object):\n",
        "  def __init__(self):\n",
        "    self.der= None\n",
        "    self.der2= None\n",
        "    self.cent= None\n",
        "    self.izq= None\n",
        "    self.izq2= None\n",
        "    self.dato= None"
      ],
      "metadata": {
        "id": "xUHNMpbWXl0g"
      },
      "execution_count": 5,
      "outputs": []
    }
  ]
}