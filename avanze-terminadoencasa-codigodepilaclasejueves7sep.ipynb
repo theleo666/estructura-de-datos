{
  "nbformat": 4,
  "nbformat_minor": 0,
  "metadata": {
    "colab": {
      "provenance": [],
      "authorship_tag": "ABX9TyPOmvRkmrtTi7g2YPoh+3wL",
      "include_colab_link": true
    },
    "kernelspec": {
      "name": "python3",
      "display_name": "Python 3"
    },
    "language_info": {
      "name": "python"
    }
  },
  "cells": [
    {
      "cell_type": "markdown",
      "metadata": {
        "id": "view-in-github",
        "colab_type": "text"
      },
      "source": [
        "<a href=\"https://colab.research.google.com/github/theleo666/estructura-de-datos/blob/main/avanze-terminadoencasa-codigodepilaclasejueves7sep.ipynb\" target=\"_parent\"><img src=\"https://colab.research.google.com/assets/colab-badge.svg\" alt=\"Open In Colab\"/></a>"
      ]
    },
    {
      "cell_type": "code",
      "execution_count": null,
      "metadata": {
        "colab": {
          "base_uri": "https://localhost:8080/"
        },
        "id": "CM23kfi04m4s",
        "outputId": "e0d9629b-7115-4661-c04a-1ce781e6c3c0"
      },
      "outputs": [
        {
          "output_type": "stream",
          "name": "stdout",
          "text": [
            "Que desea hacer?\n",
            "  1.Agregar\n",
            "  2.Eliminar\n",
            "  3.Saber si esta lleno\n",
            "  4.Ver pila\n",
            "  5.Salir\n",
            "1\n",
            "Ingrese lo que quiere agregar:  23\n",
            "Que desea hacer?\n",
            "  1.Agregar\n",
            "  2.Eliminar\n",
            "  3.Saber si esta lleno\n",
            "  4.Ver pila\n",
            "  5.Salir\n",
            "2\n",
            "Se elimino:  23\n"
          ]
        }
      ],
      "source": [
        "\n",
        "#practica pilas dia jueves\n",
        "class pila:\n",
        "    \"representa una pila con operaciones de apilar,desapilar y verificar si esta vacia\"\n",
        "    def __init__(self):\n",
        "        \"crea una pila vacia\"\n",
        "        #la pila vacia se representa con una lista vacia\n",
        "        self.items=[]\n",
        "#------------------------------------------\n",
        "    def apilar(self,x):\n",
        "        \"agrega el elemento x a la pila\"\n",
        "\n",
        "     #apilar es agregar al final de la lista\n",
        "        self.items.append(x)\n",
        "#.-------------------------------------------\n",
        "    def desapilar(self):\n",
        "        \"devuelve el elemento tope y lo elimina de la pila si la pila esta vacia levanta la excepcion \"\n",
        "        try:\n",
        "            return self.items.pop()\n",
        "        except IndexError:\n",
        "            raise ValueError(\"la pila esta vacia\")\n",
        "#-----------------------------------------------------------------------\n",
        "    def es_vacia(self):\n",
        "        \"devuelve true si la lista esta vacia,false si no\"\n",
        "        return self.items==[]\n",
        "\n",
        "    def imprimir_pila(pila):\n",
        "        for item in pila.items:\n",
        "            print(str(item))\n",
        "\n",
        "p=pila()\n",
        "c=1\n",
        "while c == 1:\n",
        "    Opcion = int(input(\"Que desea hacer?\\n  1.Agregar\\n  2.Eliminar\\n  3.Saber si esta lleno\\n  4.Ver pila\\n  5.Salir\\n\"))\n",
        "    if Opcion == 1:\n",
        "        valor = input(\"Ingrese lo que quiere agregar:  \")\n",
        "        p.apilar(valor)\n",
        "    if Opcion == 2:\n",
        "        print(\"Se elimino: \",p.desapilar())\n",
        "    if Opcion == 3:\n",
        "        if p.es_vacia() == True:\n",
        "            print(\"La pila esta vacia\")\n",
        "        else:\n",
        "            print(\"La pila tiene elementos\")\n",
        "    if Opcion == 4:\n",
        "        p.imprimir_pila()\n",
        "    if Opcion == 5:\n",
        "        c = 2\n",
        "\n",
        "\n"
      ]
    }
  ]
}