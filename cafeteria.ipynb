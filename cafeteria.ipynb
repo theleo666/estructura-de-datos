{
  "nbformat": 4,
  "nbformat_minor": 0,
  "metadata": {
    "colab": {
      "provenance": [],
      "authorship_tag": "ABX9TyNYmz/YltidQT+lPegq/2Jh",
      "include_colab_link": true
    },
    "kernelspec": {
      "name": "python3",
      "display_name": "Python 3"
    },
    "language_info": {
      "name": "python"
    }
  },
  "cells": [
    {
      "cell_type": "markdown",
      "metadata": {
        "id": "view-in-github",
        "colab_type": "text"
      },
      "source": [
        "<a href=\"https://colab.research.google.com/github/theleo666/estructura-de-datos/blob/main/cafeteria.ipynb\" target=\"_parent\"><img src=\"https://colab.research.google.com/assets/colab-badge.svg\" alt=\"Open In Colab\"/></a>"
      ]
    },
    {
      "cell_type": "code",
      "execution_count": null,
      "metadata": {
        "id": "msSkN5aJHQP8"
      },
      "outputs": [],
      "source": [
        "class cafeteria():\n",
        "  def __init__(self,comida,bebida,orden):\n",
        "    self.comida = comida\n",
        "    self.bebida = bebida\n",
        "    self.orden = []\n",
        "\n",
        "  def menu(self):\n",
        "    opcion=int(input(\"que desea hacer?\\n,1.-pedir\\n 2.-cancelar pedido\\n 3.-ver menu\\n 4.-ver ordenes\\n 5.-modificar menu\\n 6.-salir\\n\"))\n",
        "    if opcion==1:\n",
        "      com=int(input(f\"elija un alimento\\n 1-{self.comida[0]}\\n 2-{self.comida[1]}\\n 3-{self.comida[2]}\\n\"))\n",
        "      beb=int(input(f\"elija una bebida\\n 1-{self.bebida[0]}\\n 2-{self.bebida[1]}\\n 3-{self.bebida[2]}\\n\"))\n",
        "      pedido=[self.comida[com-1],self.bebida[beb-1]]\n",
        "      print(pedido)\n",
        "      self.pedir(pedido)\n",
        "    if opcion==2:\n",
        "\n",
        "    if opcion==3:\n",
        "\n",
        "    if opcion==4:\n",
        "\n",
        "\n"
      ]
    }
  ]
}