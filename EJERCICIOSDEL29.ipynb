{
  "nbformat": 4,
  "nbformat_minor": 0,
  "metadata": {
    "colab": {
      "provenance": [],
      "authorship_tag": "ABX9TyPLSB4w0xvU8Vge4QeEpf9M",
      "include_colab_link": true
    },
    "kernelspec": {
      "name": "python3",
      "display_name": "Python 3"
    },
    "language_info": {
      "name": "python"
    }
  },
  "cells": [
    {
      "cell_type": "markdown",
      "metadata": {
        "id": "view-in-github",
        "colab_type": "text"
      },
      "source": [
        "<a href=\"https://colab.research.google.com/github/theleo666/estructura-de-datos/blob/main/EJERCICIOSDEL29.ipynb\" target=\"_parent\"><img src=\"https://colab.research.google.com/assets/colab-badge.svg\" alt=\"Open In Colab\"/></a>"
      ]
    },
    {
      "cell_type": "code",
      "execution_count": 1,
      "metadata": {
        "id": "eaqZmrla5B61",
        "colab": {
          "base_uri": "https://localhost:8080/"
        },
        "outputId": "d68a187c-36ca-4067-d3d7-9679c762e23c"
      },
      "outputs": [
        {
          "output_type": "stream",
          "name": "stdout",
          "text": [
            "3 \n",
            "\n"
          ]
        }
      ],
      "source": [
        "#index\n",
        "versiones_plone=[2.1,2.5,3.6,4,5,6,4]\n",
        "print(versiones_plone.index(4),\"\\n\")\n"
      ]
    },
    {
      "cell_type": "code",
      "source": [
        "versiones_plone=[2.1,2.5,3.6,4,5,6,4]\n",
        "print(versiones_plone[2])\n",
        "print(versiones_plone.index(4,2))\n",
        "print(versiones_plone[3])\n",
        "print(versiones_plone.index(4,5))\n",
        "print(versiones_plone.index(6,2))\n",
        "print(versiones_plone.index(4,6))\n",
        "print(versiones_plone.index(6,1))\n",
        "print(versiones_plone.index(3.6,2))"
      ],
      "metadata": {
        "colab": {
          "base_uri": "https://localhost:8080/"
        },
        "id": "3JS0-IJH38gy",
        "outputId": "30705f11-e315-4df2-be58-936c1915564d"
      },
      "execution_count": 12,
      "outputs": [
        {
          "output_type": "stream",
          "name": "stdout",
          "text": [
            "3.6\n",
            "3\n",
            "4\n",
            "6\n",
            "5\n",
            "6\n",
            "5\n",
            "2\n"
          ]
        }
      ]
    },
    {
      "cell_type": "code",
      "source": [
        "versiones_plone=[2.1,2.5,3.6,4,5,6,4]\n",
        "print(versiones_plone.index(9))"
      ],
      "metadata": {
        "colab": {
          "base_uri": "https://localhost:8080/",
          "height": 194
        },
        "id": "2Aea5NhM4wn4",
        "outputId": "41a6017e-defb-479f-b200-22f38bbcea80"
      },
      "execution_count": 14,
      "outputs": [
        {
          "output_type": "error",
          "ename": "ValueError",
          "evalue": "ignored",
          "traceback": [
            "\u001b[0;31m---------------------------------------------------------------------------\u001b[0m",
            "\u001b[0;31mValueError\u001b[0m                                Traceback (most recent call last)",
            "\u001b[0;32m<ipython-input-14-2af1910c662e>\u001b[0m in \u001b[0;36m<cell line: 2>\u001b[0;34m()\u001b[0m\n\u001b[1;32m      1\u001b[0m \u001b[0mversiones_plone\u001b[0m\u001b[0;34m=\u001b[0m\u001b[0;34m[\u001b[0m\u001b[0;36m2.1\u001b[0m\u001b[0;34m,\u001b[0m\u001b[0;36m2.5\u001b[0m\u001b[0;34m,\u001b[0m\u001b[0;36m3.6\u001b[0m\u001b[0;34m,\u001b[0m\u001b[0;36m4\u001b[0m\u001b[0;34m,\u001b[0m\u001b[0;36m5\u001b[0m\u001b[0;34m,\u001b[0m\u001b[0;36m6\u001b[0m\u001b[0;34m,\u001b[0m\u001b[0;36m4\u001b[0m\u001b[0;34m]\u001b[0m\u001b[0;34m\u001b[0m\u001b[0;34m\u001b[0m\u001b[0m\n\u001b[0;32m----> 2\u001b[0;31m \u001b[0mprint\u001b[0m\u001b[0;34m(\u001b[0m\u001b[0mversiones_plone\u001b[0m\u001b[0;34m.\u001b[0m\u001b[0mindex\u001b[0m\u001b[0;34m(\u001b[0m\u001b[0;36m9\u001b[0m\u001b[0;34m)\u001b[0m\u001b[0;34m)\u001b[0m\u001b[0;34m\u001b[0m\u001b[0;34m\u001b[0m\u001b[0m\n\u001b[0m",
            "\u001b[0;31mValueError\u001b[0m: 9 is not in list"
          ]
        }
      ]
    },
    {
      "cell_type": "code",
      "source": [
        "#insert\n",
        "versiones_plone=[2.1,2.5,3.6,4,5,6]\n",
        "print(versiones_plone)\n",
        "versiones_plone.insert(2,3.7)\n",
        "print(versiones_plone)\n",
        "versiones_plone.insert(666,7)\n",
        "print(versiones_plone)"
      ],
      "metadata": {
        "colab": {
          "base_uri": "https://localhost:8080/"
        },
        "id": "2S8g3N2k8OuH",
        "outputId": "5e16a992-974e-44c0-edef-ec99efa5761b"
      },
      "execution_count": 19,
      "outputs": [
        {
          "output_type": "stream",
          "name": "stdout",
          "text": [
            "[2.1, 2.5, 3.6, 4, 5, 6]\n",
            "[2.1, 2.5, 3.7, 3.6, 4, 5, 6]\n",
            "[2.1, 2.5, 3.7, 3.6, 4, 5, 6, 7]\n"
          ]
        }
      ]
    },
    {
      "cell_type": "code",
      "source": [
        "#extend\n",
        "versiones_plone=[2.1,2.5,3.6]\n",
        "print(versiones_plone)\n",
        "versiones_plone.extend([4])\n",
        "print(versiones_plone)\n",
        "versiones_plone.extend(range(5,7))\n",
        "print(versiones_plone)"
      ],
      "metadata": {
        "colab": {
          "base_uri": "https://localhost:8080/"
        },
        "id": "LOcGhNvt-Lom",
        "outputId": "d87df997-6bfd-4edc-91f4-42e5e4feeef4"
      },
      "execution_count": 20,
      "outputs": [
        {
          "output_type": "stream",
          "name": "stdout",
          "text": [
            "[2.1, 2.5, 3.6]\n",
            "[2.1, 2.5, 3.6, 4]\n",
            "[2.1, 2.5, 3.6, 4, 5, 6]\n"
          ]
        }
      ]
    },
    {
      "cell_type": "code",
      "source": [
        "#pop\n",
        "versiones_plone=[2.1,2.5,3.6,4,5,6]\n",
        "print(versiones_plone.pop(2))\n",
        "print(versiones_plone)"
      ],
      "metadata": {
        "colab": {
          "base_uri": "https://localhost:8080/"
        },
        "id": "Xwq4B1Cf-4_k",
        "outputId": "db035187-7270-4536-82b6-eea1f6033cda"
      },
      "execution_count": 22,
      "outputs": [
        {
          "output_type": "stream",
          "name": "stdout",
          "text": [
            "2.5\n",
            "[2.1, 3.6, 4, 5, 6]\n"
          ]
        }
      ]
    },
    {
      "cell_type": "code",
      "source": [
        "#remove\n",
        "versiones_plone=[2.1,2.5,3.6,4,5,6]\n",
        "print(versiones_plone)\n",
        "versiones_plone.remove(2.5)\n",
        "print(versiones_plone)"
      ],
      "metadata": {
        "colab": {
          "base_uri": "https://localhost:8080/"
        },
        "id": "EWics24WA58k",
        "outputId": "1aee387b-ac87-4b31-aeea-ff0251890c35"
      },
      "execution_count": 23,
      "outputs": [
        {
          "output_type": "stream",
          "name": "stdout",
          "text": [
            "[2.1, 2.5, 3.6, 4, 5, 6]\n",
            "[2.1, 3.6, 4, 5, 6]\n"
          ]
        }
      ]
    },
    {
      "cell_type": "code",
      "source": [
        "from sys import version\n",
        "#revers\n",
        "versiones_plone=[2.1,2.5,3.6,4,5,6]\n",
        "print(versiones_plone)\n",
        "versiones_plone.reverse()\n",
        "print(versiones_plone)"
      ],
      "metadata": {
        "colab": {
          "base_uri": "https://localhost:8080/"
        },
        "id": "KqyKmexzBdmw",
        "outputId": "129aa0f5-114f-4883-af1c-d0e83fd5ed7b"
      },
      "execution_count": 24,
      "outputs": [
        {
          "output_type": "stream",
          "name": "stdout",
          "text": [
            "[2.1, 2.5, 3.6, 4, 5, 6]\n",
            "[6, 5, 4, 3.6, 2.5, 2.1]\n"
          ]
        }
      ]
    },
    {
      "cell_type": "code",
      "source": [
        "#sort\n",
        "versiones_plone=[\"f\",\"h\",\"a\",\"c\",\"b\",\"z\"]\n",
        "print(versiones_plone)\n",
        "versiones_plone.sort()\n",
        "print(versiones_plone)\n",
        "versiones_plone.sort(reverse=True)\n",
        "print(versiones_plone)"
      ],
      "metadata": {
        "colab": {
          "base_uri": "https://localhost:8080/"
        },
        "id": "BSyT9GCNCGEY",
        "outputId": "ce5f7514-5e5e-408a-b430-dec5e489ca0c"
      },
      "execution_count": 29,
      "outputs": [
        {
          "output_type": "stream",
          "name": "stdout",
          "text": [
            "['f', 'h', 'a', 'c', 'b', 'z']\n",
            "['a', 'b', 'c', 'f', 'h', 'z']\n",
            "['z', 'h', 'f', 'c', 'b', 'a']\n"
          ]
        }
      ]
    },
    {
      "cell_type": "code",
      "source": [
        "#iterar\n",
        "vocales=\"aeiou\"\n",
        "for letras in \"murcielago\":\n",
        "  if letras in vocales:\n",
        "    print(letras)\n",
        "\n"
      ],
      "metadata": {
        "colab": {
          "base_uri": "https://localhost:8080/"
        },
        "id": "cswFg_2wDYVn",
        "outputId": "c0a82758-be84-4bda-d830-108396a514ba"
      },
      "execution_count": 37,
      "outputs": [
        {
          "output_type": "stream",
          "name": "stdout",
          "text": [
            "u\n",
            "i\n",
            "e\n",
            "a\n",
            "o\n"
          ]
        }
      ]
    },
    {
      "cell_type": "code",
      "source": [
        "#split\n",
        "mensaje=\"hola, como estas tu?\"\n",
        "mensaje.split()#retorna una lista\n",
        "for palabra in mensaje.split():\n",
        "  print(palabra)"
      ],
      "metadata": {
        "colab": {
          "base_uri": "https://localhost:8080/"
        },
        "id": "LBkDIIgNHIW8",
        "outputId": "e41dc821-5b2b-48bd-ee77-3ac7badfb103"
      },
      "execution_count": 39,
      "outputs": [
        {
          "output_type": "stream",
          "name": "stdout",
          "text": [
            "hola,\n",
            "como\n",
            "estas\n",
            "tu?\n"
          ]
        }
      ]
    },
    {
      "cell_type": "code",
      "source": [
        "preguntas=[\"nombre\",\"objetivo\",\"sistema operativo\"]\n",
        "respuestas=[\"LEONARDO\",\"APRENDER PHYTON Y PLONE\",\"LINUX\"]\n",
        "for preguntas, respuestas in zip(preguntas,respuestas):\n",
        "  print(\"¿cual es tu {0}?, -La respuesta es:{1}.\".format(preguntas,respuestas))"
      ],
      "metadata": {
        "colab": {
          "base_uri": "https://localhost:8080/"
        },
        "id": "b7SaHSzdIJnO",
        "outputId": "490af426-c0fa-4c4a-d6f3-6d070aaabdcd"
      },
      "execution_count": 42,
      "outputs": [
        {
          "output_type": "stream",
          "name": "stdout",
          "text": [
            "¿cual es tu nombre?, -La respuesta es:LEONARDO.\n",
            "¿cual es tu objetivo?, -La respuesta es:APRENDER PHYTON Y PLONE.\n",
            "¿cual es tu sistema operativo?, -La respuesta es:LINUX.\n"
          ]
        }
      ]
    }
  ]
}