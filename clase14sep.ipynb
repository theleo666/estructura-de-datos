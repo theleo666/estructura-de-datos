{
  "nbformat": 4,
  "nbformat_minor": 0,
  "metadata": {
    "colab": {
      "provenance": [],
      "authorship_tag": "ABX9TyPTVEr12uuvebXVsPucy3qV",
      "include_colab_link": true
    },
    "kernelspec": {
      "name": "python3",
      "display_name": "Python 3"
    },
    "language_info": {
      "name": "python"
    }
  },
  "cells": [
    {
      "cell_type": "markdown",
      "metadata": {
        "id": "view-in-github",
        "colab_type": "text"
      },
      "source": [
        "<a href=\"https://colab.research.google.com/github/theleo666/estructura-de-datos/blob/main/clase14sep.ipynb\" target=\"_parent\"><img src=\"https://colab.research.google.com/assets/colab-badge.svg\" alt=\"Open In Colab\"/></a>"
      ]
    },
    {
      "cell_type": "code",
      "execution_count": null,
      "metadata": {
        "id": "88UNYgHxrRmq"
      },
      "outputs": [],
      "source": [
        "def jugar(intento=1):\n",
        "    respuesta=input(\"¿de que color es una naranja?\\n\")\n",
        "    if respuesta!=\"naranja\":\n",
        "        if intento <3:\n",
        "            print(\"\\nfallaste!intentalode nuevo\")\n",
        "            intento +=1\n",
        "            jugar(intento)\n",
        "        else:\n",
        "            print(\"\\nperdiste\")\n",
        "    else:\n",
        "        print(\"\\nganaste\")\n",
        "jugar()"
      ]
    },
    {
      "cell_type": "code",
      "source": [
        "#def imprimir(x):\n",
        " #   print(x)\n",
        "  #  imprimir(x-1)\n",
        "#imprimir(5)\n",
        "\n",
        "#def imprimir(x):\n",
        " #   if x>0:\n",
        "  #      print(x)\n",
        "   #     imprimir(x-1)\n",
        "#imprimir(5)\n",
        "#def imprimir(x):\n",
        " #   if x>0:\n",
        "  #      imprimir(x-1)\n",
        "   #     print(x)\n",
        "#imprimir(5)\n",
        "#factorial\n",
        "#def factorial(fact):\n",
        " #   if fact>0:\n",
        "  #      valor=fact*factorial(fact-1)\n",
        "   #     return valor\n",
        "    #else:\n",
        "     #   return 2;\n",
        "#print(f\"el factorial de 4 es-->{factorial(4)}\")\n",
        "#ordenamiento\n",
        "def ordenar(lista,cant):\n",
        "    if cant>1:\n",
        "        for f in range(0,cant-1):\n",
        "            if lista[f]>lista[f+1]:\n",
        "                aux=lista[f]\n",
        "                lista[f]=lista[f+1]\n",
        "                lista[f-1]=aux\n",
        "            ordenar(lista,cant-1)\n",
        "datos=[60,44,22,33,2]\n",
        "print(datos)\n",
        "ordenar(datos,len(datos))\n",
        "print(datos)"
      ],
      "metadata": {
        "id": "acGTp0X8rUqV"
      },
      "execution_count": null,
      "outputs": []
    }
  ]
}