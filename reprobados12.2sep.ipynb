{
  "nbformat": 4,
  "nbformat_minor": 0,
  "metadata": {
    "colab": {
      "provenance": [],
      "authorship_tag": "ABX9TyP8PGxxZ07LFyeGTeWDnrra",
      "include_colab_link": true
    },
    "kernelspec": {
      "name": "python3",
      "display_name": "Python 3"
    },
    "language_info": {
      "name": "python"
    }
  },
  "cells": [
    {
      "cell_type": "markdown",
      "metadata": {
        "id": "view-in-github",
        "colab_type": "text"
      },
      "source": [
        "<a href=\"https://colab.research.google.com/github/theleo666/estructura-de-datos/blob/main/reprobados12.2sep.ipynb\" target=\"_parent\"><img src=\"https://colab.research.google.com/assets/colab-badge.svg\" alt=\"Open In Colab\"/></a>"
      ]
    },
    {
      "cell_type": "code",
      "execution_count": 1,
      "metadata": {
        "colab": {
          "base_uri": "https://localhost:8080/"
        },
        "id": "iOzO8UP0dMHJ",
        "outputId": "4214fd71-f1ef-47d9-d814-201b275d152a"
      },
      "outputs": [
        {
          "output_type": "stream",
          "name": "stdout",
          "text": [
            "None=>mau striper=>None=>9=>None=>5=>8=>"
          ]
        }
      ],
      "source": [
        "#voy a reprobar 12 de sep\n",
        "class node:\n",
        "    def __init__(self,data=None,next=None,valor=None):\n",
        "        self.data=data\n",
        "        self.next=next\n",
        "        self.valor=valor\n",
        "#creamos la clase likend\n",
        "class linked_list:\n",
        "    def __init__(self):\n",
        "        self.head=None\n",
        " #metodo para agregar elementos al frente\n",
        "    def add_at_front(self,data,valor):\n",
        "        self.head=node(data=data,next=self.head)\n",
        "        self.head=node(valor=valor,next=self.head)\n",
        " #metodo para verificar estructura\n",
        "    def is_empty(self):\n",
        "        return self.head ==None\n",
        " #metodo para agregar elementos al final\n",
        "    def add_at_end(self,data):\n",
        "        if not self.head:\n",
        "            self.head=node(data=data)\n",
        "            return\n",
        "        curr=self.head\n",
        "        while curr.next:\n",
        "            curr=curr.next\n",
        "        curr.next=node(data=data)\n",
        "    #metodo para eliminar nodos\n",
        "    def delete_node(self,key):\n",
        "        curr=self.head\n",
        "        prev=None\n",
        "        while curr and curr.data !=key:\n",
        "            prev=curr\n",
        "            curr=curr.next\n",
        "        if prev is None:\n",
        "            self.head=curr.next\n",
        "        elif curr:\n",
        "            prev.next=curr.next\n",
        "            curr.next=None\n",
        "#metodo para obtener el ultimo nodo\n",
        "    def get_last_node(self):\n",
        "        temp:self.head\n",
        "        while(temp.next is not None):\n",
        "            temp=temp.next\n",
        "        return temp.data\n",
        "#metodo para imprimir la lista de nodos\n",
        "    def print_list(self):\n",
        "        node=self.head\n",
        "        while node !=None:\n",
        "            print(node.data,end=\"=>\")\n",
        "            node=node.next\n",
        "s=linked_list()\n",
        "s.add_at_front(5,7)\n",
        "s.add_at_end(8)\n",
        "s.add_at_front(9,5)\n",
        "s.add_at_front(\"mau striper\",6)\n",
        "s.print_list()"
      ]
    }
  ]
}