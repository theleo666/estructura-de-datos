{
  "nbformat": 4,
  "nbformat_minor": 0,
  "metadata": {
    "colab": {
      "provenance": [],
      "authorship_tag": "ABX9TyNSvqNdXm/d9DFWTyUw4UGA",
      "include_colab_link": true
    },
    "kernelspec": {
      "name": "python3",
      "display_name": "Python 3"
    },
    "language_info": {
      "name": "python"
    }
  },
  "cells": [
    {
      "cell_type": "markdown",
      "metadata": {
        "id": "view-in-github",
        "colab_type": "text"
      },
      "source": [
        "<a href=\"https://colab.research.google.com/github/theleo666/estructura-de-datos/blob/main/examensincarcol.ipynb\" target=\"_parent\"><img src=\"https://colab.research.google.com/assets/colab-badge.svg\" alt=\"Open In Colab\"/></a>"
      ]
    },
    {
      "cell_type": "code",
      "source": [
        "def generar_fila_ascendente(inicio, fin):\n",
        "    return list(range(inicio, fin + 1))\n",
        "\n",
        "def generar_fila_descendente(inicio, fin):\n",
        "    return list(range(fin, inicio - 1, -1))\n",
        "\n",
        "    for _ in range(n * m):\n",
        "        resultado.append(num)\n",
        "\n",
        "        if direccion == 0:\n",
        "            if columna + 1 < m and resultado[-1] + 1 not in resultado:\n",
        "                columna += 1\n",
        "                num += 1\n",
        "            else:\n",
        "                direccion = 1\n",
        "        elif direccion == 1:\n",
        "            if fila + 1 < n and resultado[-1] + m not in resultado:\n",
        "                fila += 1\n",
        "                num += m\n",
        "            else:\n",
        "                direccion = 2\n",
        "        elif direccion == 2:\n",
        "            if columna - 1 >= 0 and resultado[-1] - 1 not in resultado:\n",
        "                columna -= 1\n",
        "                num -= 1\n",
        "            else:\n",
        "                direccion = 3\n",
        "        elif direccion == 3:\n",
        "            if fila - 1 >= 0 and resultado[-1] - m not in resultado:\n",
        "                fila -= 1\n",
        "                num -= m\n",
        "            else:\n",
        "                direccion = 0\n",
        "\n",
        "    return resultado\n",
        "\n",
        "while True:\n",
        "    print(\"Menu:\")\n",
        "    print(\"1. Generar filas ascendentes\")\n",
        "    print(\"2. Generar filas descendentes\")\n",
        "\n",
        "    opcion = input(\"Selecciona una opción: \")\n",
        "\n",
        "    if opcion == \"1\":\n",
        "        inicio = int(input(\"Ingrese el número de inicio: \"))\n",
        "        fin = int(input(\"Ingrese el número de fin: \"))\n",
        "        fila_ascendente = generar_fila_ascendente(inicio, fin)\n",
        "        print(\"Fila ascendente:\", fila_ascendente)\n",
        "    elif opcion == \"2\":\n",
        "        inicio = int(input(\"Ingrese el número de inicio: \"))\n",
        "        fin = int(input(\"Ingrese el número de fin: \"))\n",
        "        fila_descendente = generar_fila_descendente(inicio, fin)\n",
        "        print(\"Fila descendente:\", fila_descendente)\n",
        "\n",
        "    else:\n",
        "        print(\"Opción no válida. Por favor, seleccione una opción válida.\")\n"
      ],
      "metadata": {
        "colab": {
          "base_uri": "https://localhost:8080/"
        },
        "id": "V2aKtMc4cWe-",
        "outputId": "961f6605-3b5c-46b2-fb07-8d77a1f4120c"
      },
      "execution_count": null,
      "outputs": [
        {
          "output_type": "stream",
          "name": "stdout",
          "text": [
            "Menu:\n",
            "1. Generar filas ascendentes\n",
            "2. Generar filas descendentes\n",
            "Selecciona una opción: 1\n",
            "Ingrese el número de inicio: 1\n",
            "Ingrese el número de fin: 12\n",
            "Fila ascendente: [1, 2, 3, 4, 5, 6, 7, 8, 9, 10, 11, 12]\n",
            "Menu:\n",
            "1. Generar filas ascendentes\n",
            "2. Generar filas descendentes\n",
            "Selecciona una opción: 2\n",
            "Ingrese el número de inicio: 1\n",
            "Ingrese el número de fin: 12\n",
            "Fila descendente: [12, 11, 10, 9, 8, 7, 6, 5, 4, 3, 2, 1]\n",
            "Menu:\n",
            "1. Generar filas ascendentes\n",
            "2. Generar filas descendentes\n"
          ]
        }
      ]
    },
    {
      "cell_type": "code",
      "source": [
        "caracol"
      ],
      "metadata": {
        "id": "4qBb94oOw4_C"
      },
      "execution_count": null,
      "outputs": []
    },
    {
      "cell_type": "code",
      "source": [
        "import random\n",
        "A = [random.randint(1,10),random.randint(1,10)]\n",
        "B = []\n",
        "ciclo = 0\n",
        "#Inicia el juego\n",
        "while ciclo == 0:\n",
        "    p = 0\n",
        "    x = 0\n",
        "#Bucle donde el jugador selecciona sus  numeros\n",
        "    for i in range(2):\n",
        "        num = int(input(\"Escribe un numero: \"))\n",
        "        B.append(num)\n",
        "\n",
        "    for i in range(2):\n",
        "        if A.count(B[p]) > 0:\n",
        "            print(f\"Existen= {A.count(B[p])}--> {B[p]}\")\n",
        "        p +=1\n",
        "\n",
        "    p = 0\n",
        "    x = 0\n",
        "\n",
        "    for i in range(2):\n",
        "        if A[p] == B[p]:\n",
        "            x += 1\n",
        "        p += 1\n",
        "    print(f\"Le atinaste a {x} numeros\")\n",
        "    B.clear()\n",
        "    if x == 2:\n",
        "        print(\"Ganaste\")\n",
        "        ciclo =+ 1\n",
        "print(A)"
      ],
      "metadata": {
        "id": "JS9JiLGSwHz2"
      },
      "execution_count": null,
      "outputs": []
    }
  ]
}