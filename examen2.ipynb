{
  "nbformat": 4,
  "nbformat_minor": 0,
  "metadata": {
    "colab": {
      "provenance": [],
      "authorship_tag": "ABX9TyNfhZ0Ok+wHMn6WKi69W8H/",
      "include_colab_link": true
    },
    "kernelspec": {
      "name": "python3",
      "display_name": "Python 3"
    },
    "language_info": {
      "name": "python"
    }
  },
  "cells": [
    {
      "cell_type": "markdown",
      "metadata": {
        "id": "view-in-github",
        "colab_type": "text"
      },
      "source": [
        "<a href=\"https://colab.research.google.com/github/theleo666/estructura-de-datos/blob/main/examen2.ipynb\" target=\"_parent\"><img src=\"https://colab.research.google.com/assets/colab-badge.svg\" alt=\"Open In Colab\"/></a>"
      ]
    },
    {
      "cell_type": "code",
      "source": [
        "def fila_ascendente(inicio, fin):\n",
        "    return list(range(inicio, fin + 1))\n",
        "\n",
        "fila_1 = fila_ascendente(1, 3)\n",
        "fila_2 = fila_ascendente(4, 6)\n",
        "fila_3 = fila_ascendente(7, 9)\n",
        "fila_4 = fila_ascendente(10,12)\n",
        "print( fila_1)\n",
        "print( fila_2)\n",
        "print( fila_3)\n",
        "print( fila_4)\n"
      ],
      "metadata": {
        "colab": {
          "base_uri": "https://localhost:8080/"
        },
        "id": "AxeqzrDfZQch",
        "outputId": "ac6bbc55-31d1-4daf-9d30-744b9d703823"
      },
      "execution_count": 11,
      "outputs": [
        {
          "output_type": "stream",
          "name": "stdout",
          "text": [
            "[1, 2, 3]\n",
            "[4, 5, 6]\n",
            "[7, 8, 9]\n",
            "[10, 11, 12]\n"
          ]
        }
      ]
    },
    {
      "cell_type": "code",
      "source": [
        "def generar_fila_descendente(inicio, fin):\n",
        "    return list(range( inicio,fin - 1, +1))\n",
        "\n",
        "# Generar la fila descendente\n",
        "fila_descendente1 = generar_fila_descendente(1,3)\n",
        "fila_descendente2 = generar_fila_descendente(4,6)\n",
        "fila_descendente3 = generar_fila_descendente(7,9)\n",
        "fila_descendente4 = generar_fila_descendente(10,12)\n",
        "\n",
        "# Imprimir la fila descendente\n",
        "print(\"Fila descendente:\", fila_descendente1)\n",
        "print(\"Fila descendente:\", fila_descendente2)\n",
        "print(\"Fila descendente:\", fila_descendente3)\n",
        "print(\"Fila descendente:\", fila_descendente4)"
      ],
      "metadata": {
        "id": "I0quAtnLicW4"
      },
      "execution_count": null,
      "outputs": []
    },
    {
      "cell_type": "code",
      "source": [
        "class Pilas():\n",
        "\n",
        "\n",
        "    def _init_(self):\n",
        "            #Se crea una pila vacia\n",
        "        self.items=[]\n",
        "\n",
        "    def llenar(self):\n",
        "\n",
        "        x=[]\n",
        "        for i in range(3):\n",
        "            a=int(input(\"Agrega el valor\"))\n",
        "            x.append(a)\n",
        "        self.items.append(x)\n",
        "\n",
        "    def mostrar(self):\n",
        "        for item in self.items:\n",
        "            print(item)\n",
        "\n",
        "p=Pilas()\n",
        "for i in range (4):\n",
        "    p.llenar()\n",
        "\n",
        "p.mostrar()"
      ],
      "metadata": {
        "id": "J14XaLNrntg6"
      },
      "execution_count": null,
      "outputs": []
    },
    {
      "cell_type": "code",
      "source": [
        "import random\n",
        "A = [random.randint(1,10),random.randint(1,10)]\n",
        "B = []\n",
        "ciclo = 0\n",
        "\n",
        "#Inicia el juego\n",
        "while ciclo == 0:\n",
        "\n",
        "    p = 0\n",
        "    x = 0\n",
        "\n",
        "#Bucle donde el jugador selecciona sus  numeros\n",
        "    for i in range(2):\n",
        "        num = int(input(\"Escribe un numero: \"))\n",
        "        B.append(num)\n",
        "\n",
        "    for i in range(2):\n",
        "        if A.count(B[p]) > 0:\n",
        "            print(f\"Existen= {A.count(B[p])}--> {B[p]}\")\n",
        "        p +=1\n",
        "\n",
        "    p = 0\n",
        "    x = 0\n",
        "\n",
        "\n",
        "    for i in range(2):\n",
        "        if A[p] == B[p]:\n",
        "            x += 1\n",
        "        p += 1\n",
        "\n",
        "    print(f\"Le atinaste a {x} numeros\")\n",
        "    B.clear()\n",
        "    if x == 2:\n",
        "        print(\"Ganaste\")\n",
        "        ciclo =+ 1\n",
        "print(A)"
      ],
      "metadata": {
        "colab": {
          "base_uri": "https://localhost:8080/"
        },
        "id": "mFMWpWw7mpA-",
        "outputId": "f839001e-3203-4967-c264-a015fcb64080"
      },
      "execution_count": null,
      "outputs": [
        {
          "output_type": "stream",
          "name": "stdout",
          "text": [
            "Escribe un numero: 2\n",
            "Escribe un numero: 6\n",
            "Le atinaste a 0 numeros\n"
          ]
        }
      ]
    }
  ]
}