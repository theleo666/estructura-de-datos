{
  "nbformat": 4,
  "nbformat_minor": 0,
  "metadata": {
    "colab": {
      "provenance": [],
      "authorship_tag": "ABX9TyPXdDo8gMnb+gbiZYvu6h3M",
      "include_colab_link": true
    },
    "kernelspec": {
      "name": "python3",
      "display_name": "Python 3"
    },
    "language_info": {
      "name": "python"
    }
  },
  "cells": [
    {
      "cell_type": "markdown",
      "metadata": {
        "id": "view-in-github",
        "colab_type": "text"
      },
      "source": [
        "<a href=\"https://colab.research.google.com/github/theleo666/estructura-de-datos/blob/main/Unidad2ej2.ipynb\" target=\"_parent\"><img src=\"https://colab.research.google.com/assets/colab-badge.svg\" alt=\"Open In Colab\"/></a>"
      ]
    },
    {
      "cell_type": "code",
      "execution_count": null,
      "metadata": {
        "id": "EFBov98h8psz"
      },
      "outputs": [],
      "source": [
        "class TorreHanoiConPilas:\n",
        "    def _init_(self, n):\n",
        "        self.n = n\n",
        "        self.pila_A = [7,5,3]\n",
        "        self.pila_B = []\n",
        "        self.pila_C = []\n",
        "        self.origen = \"A\"\n",
        "        self.auxiliar = \"B\"\n",
        "        self.destino = \"C\"\n",
        "\n",
        "    def mover_disco(self, origen, destino):\n",
        "        disco = origen.pop()\n",
        "        destino.append(disco)\n",
        "        print(f\"Mover disco {disco} de la pila {origen} a la pila {destino}\")\n",
        "\n",
        "    def resolver(self, n, origen, auxiliar, destino):\n",
        "        if n == 1:\n",
        "            self.mover_disco(origen, destino)\n",
        "        else:\n",
        "            self.resolver(n-1, origen, destino, auxiliar)\n",
        "            self.mover_disco(origen, destino)\n",
        "            self.resolver(n-1, auxiliar, origen, destino)\n",
        "\n",
        "    def resolver_torre_hanoi(self):\n",
        "        self.resolver(self.n, self.pila_A, self.pila_B, self.pila_C)\n",
        "\n",
        "n = 3  # Número de discos\n",
        "torre_hanoi = TorreHanoiConPilas(n)\n",
        "torre_hanoi.resolver_torre_hanoi()"
      ]
    }
  ]
}