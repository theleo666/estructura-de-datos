{
  "nbformat": 4,
  "nbformat_minor": 0,
  "metadata": {
    "colab": {
      "provenance": [],
      "authorship_tag": "ABX9TyM7H7geZd39WC/MEB+VsjdP",
      "include_colab_link": true
    },
    "kernelspec": {
      "name": "python3",
      "display_name": "Python 3"
    },
    "language_info": {
      "name": "python"
    }
  },
  "cells": [
    {
      "cell_type": "markdown",
      "metadata": {
        "id": "view-in-github",
        "colab_type": "text"
      },
      "source": [
        "<a href=\"https://colab.research.google.com/github/theleo666/estructura-de-datos/blob/main/Unidad2alan.ipynb\" target=\"_parent\"><img src=\"https://colab.research.google.com/assets/colab-badge.svg\" alt=\"Open In Colab\"/></a>"
      ]
    },
    {
      "cell_type": "code",
      "execution_count": null,
      "metadata": {
        "colab": {
          "base_uri": "https://localhost:8080/"
        },
        "id": "DY8IUAvMLZHv",
        "outputId": "2b34a284-93eb-4532-cd3b-3ef6601e8f9e"
      },
      "outputs": [
        {
          "output_type": "stream",
          "name": "stdout",
          "text": [
            "Arboles_Binarios\n",
            "1. Agregar\n",
            "2. Preorden\n",
            "3. Postorden\n",
            "4. Inorden\n",
            "5. Salir\n"
          ]
        }
      ],
      "source": [
        "#Clase llamada nodo\n",
        "class Nodo:\n",
        " #Constructor con los argumentos\n",
        " def __init__(self, value=None, izq=None, der=None):\n",
        " #Punteros\n",
        "  self.value = value\n",
        "  self.izq = izq\n",
        "  self.der = der\n",
        " #Retornar el valor\n",
        " def __str__(self):\n",
        "  return self.value\n",
        "\n",
        "#Clase del arbol binario\n",
        "class aBinarios:\n",
        " #metodo constructor y el atributo raiz\n",
        " def __init__(self):\n",
        "  self.raiz = None\n",
        " #creamos la funcion agregar\n",
        " def agregar(self, elemento):\n",
        "  if self.raiz == None:\n",
        "   self.raiz = elemento\n",
        "  else:\n",
        "    aux = self.raiz\n",
        "    padre = None\n",
        "  while aux != None:\n",
        "   padre = aux\n",
        "  if int(elemento.value) >= int(aux.value):\n",
        "   aux = aux.der\n",
        "  else:\n",
        "   aux = aux.izq\n",
        "  if int(elemento.value) >= int(padre.value):\n",
        "   padre.der = elemento\n",
        "  else:\n",
        "   padre.izq = elemento\n",
        " #se crea metodo mostrar el preorden\n",
        " def preorden(self, elemento):\n",
        "  if elemento != None:\n",
        "   print(elemento)\n",
        "  self.preorden(elemento.izq)\n",
        "  self.preorden(elemento.der)\n",
        " #se crea metodo mostrar el posrden (recursividad)\n",
        " def postorden(self, elemento):\n",
        "  if elemento != None:\n",
        "   self.postorden(elemento.izq)\n",
        "   self.postorden(elemento.der)\n",
        "  print(elemento)\n",
        " #se crea metodo mostrar el inorden\n",
        " def inorden(self, elemento):\n",
        "  if elemento != None:\n",
        "   self.inorden(elemento.izq)\n",
        "  print(elemento)\n",
        "  self.inorden(elemento.der)\n",
        " #se crea funcion que permite obtener la reiz\n",
        " def getRaiz(self):\n",
        "  return self.raiz\n",
        "#creamos un menu\n",
        "if __name__ == \"__main__\":\n",
        " #llamamos el objeto de arbol binario\n",
        " ab = aBinarios()\n",
        "while(True):\n",
        " #opciones del menu\n",
        " print(\"Arboles_Binarios\\n\"+\n",
        " \"1. Agregar\\n\"+\n",
        " \"2. Preorden\\n\"+\n",
        " \"3. Postorden\\n\"+\n",
        " \"4. Inorden\\n\"+\n",
        " \"5. Salir\")\n",
        " num = input(\"ingrese la opcion-->\")\n",
        " if num == \"1\":\n",
        "  value = input(\"Ingrese el valor: \")\n",
        "  nod =Nodo(value)\n",
        "  ab.agregar(nod)\n",
        " elif num == \"2\":\n",
        "  print(\"Preorden\")\n",
        "  ab.preorden(ab.getRaiz())\n",
        " elif num == \"3\":\n",
        "  print(\"postorden\")\n",
        "  ab.postorden(ab.getRaiz())\n",
        " elif num == \"4\":\n",
        "  print(\"inorden\")\n",
        "  ab.inorden(ab.getRaiz())\n",
        " elif num == \"5\":\n",
        "  exit()\n",
        ""
      ]
    }
  ]
}