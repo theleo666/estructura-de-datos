{
  "nbformat": 4,
  "nbformat_minor": 0,
  "metadata": {
    "colab": {
      "provenance": [],
      "authorship_tag": "ABX9TyNMwqWGnolY9lTjkMX9UFZ7",
      "include_colab_link": true
    },
    "kernelspec": {
      "name": "python3",
      "display_name": "Python 3"
    },
    "language_info": {
      "name": "python"
    }
  },
  "cells": [
    {
      "cell_type": "markdown",
      "metadata": {
        "id": "view-in-github",
        "colab_type": "text"
      },
      "source": [
        "<a href=\"https://colab.research.google.com/github/theleo666/estructura-de-datos/blob/main/filaestudiar.ipynb\" target=\"_parent\"><img src=\"https://colab.research.google.com/assets/colab-badge.svg\" alt=\"Open In Colab\"/></a>"
      ]
    },
    {
      "cell_type": "code",
      "source": [
        "# Función para generar una fila de números ascendentes\n",
        "def fila_ascendente(inicio, fin):\n",
        "    return list(range(inicio, fin + 1))\n",
        "\n",
        "# Generar tres filas ascendentes\n",
        "fila_1 = fila_ascendente(1, 3)\n",
        "fila_2 = fila_ascendente(4, 6)\n",
        "fila_3 = fila_ascendente(7, 10)\n",
        "fila_4 = fila_ascendente(9,12)\n",
        "# Imprimir las tres filas\n",
        "print( fila_1)\n",
        "print( fila_2)\n",
        "print( fila_3)\n",
        "print( fila_4)\n"
      ],
      "metadata": {
        "colab": {
          "base_uri": "https://localhost:8080/"
        },
        "id": "AxeqzrDfZQch",
        "outputId": "342b2305-23d1-485c-a22d-c5f6c8e76cd0"
      },
      "execution_count": 8,
      "outputs": [
        {
          "output_type": "stream",
          "name": "stdout",
          "text": [
            "Fila 1: [1, 2, 3]\n",
            "Fila 2: [4, 5, 6]\n",
            "Fila 3: [7, 8, 9, 10]\n"
          ]
        }
      ]
    }
  ]
}