{
  "nbformat": 4,
  "nbformat_minor": 0,
  "metadata": {
    "colab": {
      "provenance": [],
      "authorship_tag": "ABX9TyOKBXNoIXR03hblF47b95rf",
      "include_colab_link": true
    },
    "kernelspec": {
      "name": "python3",
      "display_name": "Python 3"
    },
    "language_info": {
      "name": "python"
    }
  },
  "cells": [
    {
      "cell_type": "markdown",
      "metadata": {
        "id": "view-in-github",
        "colab_type": "text"
      },
      "source": [
        "<a href=\"https://colab.research.google.com/github/theleo666/estructura-de-datos/blob/main/Untitled5.ipynb\" target=\"_parent\"><img src=\"https://colab.research.google.com/assets/colab-badge.svg\" alt=\"Open In Colab\"/></a>"
      ]
    },
    {
      "cell_type": "code",
      "execution_count": null,
      "metadata": {
        "id": "J8XjTKn2gE--"
      },
      "outputs": [],
      "source": [
        "#alumnos\n",
        "c=1\n",
        "A=[]\n",
        "B=[]\n",
        "\n",
        "class Alumno:\n",
        "    Nombre = \"\"\n",
        "    Carrera = \"\"\n",
        "    Semestre = 0\n",
        "    RFC = \"\"\n",
        "    NoControl = 0\n",
        "\n",
        "    def __init__(self, Nombre, Carrera, Semestre, RFC, NoControl):\n",
        "        self.Nombre = Nombre\n",
        "        self.Carrera = Carrera\n",
        "        self.Semestre = Semestre\n",
        "        self.RFC = RFC\n",
        "        self.NoControl = NoControl\n",
        "\n",
        "    def elegirCarrera(self,Eleccion):\n",
        "        if Eleccion == 1:\n",
        "            self.Carrera = \"TIC´S\"\n",
        "        if Eleccion == 2:\n",
        "            self.Carrera = \"Sistemas\"\n",
        "        if Eleccion == 3:\n",
        "            self.Carrera = \"Industrial\"\n",
        "        if Eleccion == 4:\n",
        "            self.Carrera = \"Electromecanica\"\n",
        "        if Eleccion == 5:\n",
        "            self.Carrera = \"Gestion empresarial\"\n",
        "    def imprimir(self):\n",
        "        print(self.Nombre)\n",
        "        print(self.Carrera)\n",
        "        print(self.Semestre)\n",
        "        print(self.RFC)\n",
        "        print(self.NoControl)\n",
        "\n",
        "\n",
        "def agregar_nueva_fila(array, datos_fila):\n",
        "    nueva_fila = datos_fila\n",
        "    array.append(nueva_fila)\n",
        "\n",
        "\n",
        "\n",
        "while c == 1:\n",
        "    Opcion = int(input(\"Que decea hacecr?:\\n  1-Agregar Alumno\\n  2-Mostrar Todos los alumnos\\n\"\n",
        "                   \"  3-Buscar por Carrera\\n  4-Buscar por Alumno\\n  5-Cuantos Alumnos hay\\n  6-Salir\\n  \"))\n",
        "    if Opcion == 1:\n",
        "        nom = input(\"Escribe tu nombre: \")\n",
        "        sem = int(input(\"Escribe tu semestre: \"))\n",
        "        rfc = input(\"Escribe tu RFC: \")\n",
        "        control = int(input(\"Escribe tu numero de control: \"))\n",
        "\n",
        "        Alumno1 = Alumno(nom,\"\",sem,rfc,control)\n",
        "\n",
        "        Eleccion = int(input(\"Que carrera decea?:\\n  1-TIC´S\\n  2-Sistemas\\n  3-Industrial\\n\"\n",
        "                             \"  4-Electromecanica\\n  5-Gestion empresarial\\n  \"))\n",
        "\n",
        "        B.append(Eleccion)\n",
        "\n",
        "        Alumno1.elegirCarrera(Eleccion)\n",
        "\n",
        "        datos_para_fila = [Alumno1.Nombre,Alumno1.Carrera,Alumno1.Semestre,Alumno1.RFC,Alumno1.NoControl]\n",
        "        agregar_nueva_fila(A, datos_para_fila)\n",
        "\n",
        "\n",
        "    if Opcion == 2:\n",
        "        for fila in A:\n",
        "            print(fila)\n",
        "\n",
        "    if Opcion == 3:\n",
        "        print(\"TIC´S ->\", B.count(1))\n",
        "        print(\"Sistemas ->\", B.count(2))\n",
        "        print(\"Industrial ->\", B.count(3))\n",
        "        print(\"Electromecanica ->\", B.count(4))\n",
        "        print(\"Gestion Empresarial ->\", B.count(5),\"\\n\")\n",
        "\n",
        "    if Opcion == 4:\n",
        "        palabra_buscar = input(\"Ingrese el nombre del alumno : \")\n",
        "        contador = 0\n",
        "        for palabra, _,_,_,_ in A:\n",
        "            if palabra == palabra_buscar:\n",
        "                contador += 1\n",
        "        print(f\"El nombre '{palabra_buscar}' se repite {contador} veces.\\n\")\n",
        "    if Opcion == 5:\n",
        "        print(f\"Hay {len(A)} registrados\")\n",
        "\n",
        "    if Opcion == 6:\n",
        "        c = 2"
      ]
    }
  ]
}