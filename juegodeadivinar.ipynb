{
  "nbformat": 4,
  "nbformat_minor": 0,
  "metadata": {
    "colab": {
      "provenance": [],
      "authorship_tag": "ABX9TyP8V8NZf5h/rSiNp71Gbd4J",
      "include_colab_link": true
    },
    "kernelspec": {
      "name": "python3",
      "display_name": "Python 3"
    },
    "language_info": {
      "name": "python"
    }
  },
  "cells": [
    {
      "cell_type": "markdown",
      "metadata": {
        "id": "view-in-github",
        "colab_type": "text"
      },
      "source": [
        "<a href=\"https://colab.research.google.com/github/theleo666/estructura-de-datos/blob/main/juegodeadivinar.ipynb\" target=\"_parent\"><img src=\"https://colab.research.google.com/assets/colab-badge.svg\" alt=\"Open In Colab\"/></a>"
      ]
    },
    {
      "cell_type": "code",
      "execution_count": null,
      "metadata": {
        "id": "Lkm2riWh2-Z9"
      },
      "outputs": [],
      "source": [
        "#Necesario para sacar numeros aleatorios\n",
        "import random\n",
        "#Inicio la clase partida\n",
        "class Partida:\n",
        "    #Defino las variables que voy a pedir en diferentes metodos\n",
        "    def __init__(self, intentos,num,nombre,errores):\n",
        "        self.intentos = intentos\n",
        "        self.num = num\n",
        "        self.nombre = nombre\n",
        "        self.errores = errores\n",
        "\n",
        "    #Este metodo ordena los arrelos de menor a mayor\n",
        "    def ordenar(self,lista,cant):#Lista = alli va a ir el arrelo, cant = alli va a ir el tamaño del arreglo\n",
        "        if cant>1:\n",
        "            for f in range(0,cant-1):\n",
        "                if lista[f]>lista[f+1]:\n",
        "                    aux = lista[f]\n",
        "                    lista[f]=lista[f+1]\n",
        "                    lista[f+1] = aux\n",
        "                self.ordenar(lista,cant-1)\n",
        "    #Metodo que inicia el juego\n",
        "    def juego(self):\n",
        "        valor = int(input(\"¿Qué número piensas que es?: \\n\")) #El usuario pone un numero\n",
        "\n",
        "        #Si el jugador gana pasa esto\n",
        "        if valor == self.num:\n",
        "            print(f\"Felicidades-->Ganaste con {10 - self.intentos} errores.\")\n",
        "            self.errores = 10-self.intentos #Se guardan los errores para usarlos en el arreglo \"A\"\n",
        "        #Si el jugador se equivoco pasa esto\n",
        "        elif self.intentos > 1:\n",
        "            if valor < self.num:\n",
        "                print(\"pista-->El número es mayor.\")\n",
        "            else:\n",
        "                print(\"pista-->El número es menor.\")\n",
        "            print(f\"vuelve a intentarlo-->Te quedan {self.intentos - 1} intentos.\")\n",
        "            self.intentos -= 1 #Se le resta 1 a los intentos\n",
        "            self.juego() #Se usa la recursividad\n",
        "\n",
        "        #Si los intentos llegan a 0 el jugador pierde\n",
        "        else:\n",
        "            print(\"Perdiste\")\n",
        "ciclo = 0 #Variable para el ciclo while\n",
        "A = [] #Arreglo donde se guardan los resultados\n",
        "while ciclo == 0:\n",
        "    nombre = input(\"Escribe tu nombre: \") #Se pide primero el nombre para poder ponerlo en la clase\n",
        "    partida1 = Partida(10, random.randint(1, 1000),nombre,0) #Se crea la clase #Se usa el random.randit para sacar un numero aleatorio en cierto rango\n",
        "    Opcion = int(input(\"Que deseas hacer:\\n  1.Jugar\\n  2.Ver tabla de clasificaciones\\n  3.Salir\\n\"))\n",
        "    if Opcion == 1:\n",
        "        #Se inicia el juego\n",
        "        partida1.juego()\n",
        "        #Se termina la partida, Si el jugador perdio no se vera en el marcador\n",
        "        nuevaFila = [partida1.errores,partida1.nombre,partida1.num]\n",
        "        #Se mete el arreglo nueva fila dentro del arreglo A\n",
        "        A.append(nuevaFila)\n",
        "    if Opcion == 2:\n",
        "        #Se ordena el marcador\n",
        "        partida1.ordenar(A,len(A))\n",
        "        #Se muestra el marcador\n",
        "        print(A)\n",
        "\n",
        "\n"
      ]
    }
  ]
}